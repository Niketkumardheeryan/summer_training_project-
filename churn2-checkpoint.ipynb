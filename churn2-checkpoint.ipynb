{
 "cells": [
  {
   "cell_type": "markdown",
   "metadata": {
    "colab_type": "text",
    "id": "view-in-github"
   },
   "source": [
    "<a href=\"https://colab.research.google.com/github/Paritoshyadav/Minimizing-Churn-Rate-Through-Analysis-of-Financial-Habits/blob/master/Minimizing_Churn_Rate_Through_Analysis_of_Financial_Habits.ipynb\" target=\"_parent\"><img src=\"https://colab.research.google.com/assets/colab-badge.svg\" alt=\"Open In Colab\"/></a>"
   ]
  },
  {
   "cell_type": "code",
   "execution_count": 26,
   "metadata": {
    "colab": {
     "base_uri": "https://localhost:8080/",
     "height": 1000
    },
    "colab_type": "code",
    "id": "iNGLRBL8oERJ",
    "outputId": "c723c060-9dd3-429c-a86c-cd7da7165b24"
   },
   "outputs": [
    {
     "name": "stderr",
     "output_type": "stream",
     "text": [
      "'apt-get' is not recognized as an internal or external command,\n",
      "operable program or batch file.\n",
      "'apt-get' is not recognized as an internal or external command,\n",
      "operable program or batch file.\n"
     ]
    }
   ],
   "source": [
    "!apt-get update\n",
    "!apt-get upgrade"
   ]
  },
  {
   "cell_type": "code",
   "execution_count": 27,
   "metadata": {
    "colab": {},
    "colab_type": "code",
    "id": "uaqeWjKV0gLS"
   },
   "outputs": [],
   "source": [
    "import pandas as pd\n",
    "import matplotlib.pyplot as plt\n",
    "import seaborn as sns\n",
    "import numpy as np"
   ]
  },
  {
   "cell_type": "code",
   "execution_count": 28,
   "metadata": {
    "colab": {},
    "colab_type": "code",
    "id": "egvZ0VeU0gVZ"
   },
   "outputs": [],
   "source": [
    "dataset = pd.read_csv('churn_data.csv')"
   ]
  },
  {
   "cell_type": "code",
   "execution_count": 29,
   "metadata": {
    "colab": {
     "base_uri": "https://localhost:8080/",
     "height": 224
    },
    "colab_type": "code",
    "id": "Cspif9dU0gZN",
    "outputId": "a7be40f2-b636-4ca0-81be-2bf6787d49a1"
   },
   "outputs": [
    {
     "data": {
      "text/html": [
       "<div>\n",
       "<style scoped>\n",
       "    .dataframe tbody tr th:only-of-type {\n",
       "        vertical-align: middle;\n",
       "    }\n",
       "\n",
       "    .dataframe tbody tr th {\n",
       "        vertical-align: top;\n",
       "    }\n",
       "\n",
       "    .dataframe thead th {\n",
       "        text-align: right;\n",
       "    }\n",
       "</style>\n",
       "<table border=\"1\" class=\"dataframe\">\n",
       "  <thead>\n",
       "    <tr style=\"text-align: right;\">\n",
       "      <th></th>\n",
       "      <th>user</th>\n",
       "      <th>churn</th>\n",
       "      <th>age</th>\n",
       "      <th>housing</th>\n",
       "      <th>credit_score</th>\n",
       "      <th>deposits</th>\n",
       "      <th>withdrawal</th>\n",
       "      <th>purchases_partners</th>\n",
       "      <th>purchases</th>\n",
       "      <th>cc_taken</th>\n",
       "      <th>...</th>\n",
       "      <th>waiting_4_loan</th>\n",
       "      <th>cancelled_loan</th>\n",
       "      <th>received_loan</th>\n",
       "      <th>rejected_loan</th>\n",
       "      <th>zodiac_sign</th>\n",
       "      <th>left_for_two_month_plus</th>\n",
       "      <th>left_for_one_month</th>\n",
       "      <th>rewards_earned</th>\n",
       "      <th>reward_rate</th>\n",
       "      <th>is_referred</th>\n",
       "    </tr>\n",
       "  </thead>\n",
       "  <tbody>\n",
       "    <tr>\n",
       "      <th>0</th>\n",
       "      <td>55409</td>\n",
       "      <td>0</td>\n",
       "      <td>37.0</td>\n",
       "      <td>na</td>\n",
       "      <td>NaN</td>\n",
       "      <td>0</td>\n",
       "      <td>0</td>\n",
       "      <td>0</td>\n",
       "      <td>0</td>\n",
       "      <td>0</td>\n",
       "      <td>...</td>\n",
       "      <td>0</td>\n",
       "      <td>0</td>\n",
       "      <td>0</td>\n",
       "      <td>0</td>\n",
       "      <td>Leo</td>\n",
       "      <td>1</td>\n",
       "      <td>0</td>\n",
       "      <td>NaN</td>\n",
       "      <td>0.00</td>\n",
       "      <td>0</td>\n",
       "    </tr>\n",
       "    <tr>\n",
       "      <th>1</th>\n",
       "      <td>23547</td>\n",
       "      <td>0</td>\n",
       "      <td>28.0</td>\n",
       "      <td>R</td>\n",
       "      <td>486.0</td>\n",
       "      <td>0</td>\n",
       "      <td>0</td>\n",
       "      <td>1</td>\n",
       "      <td>0</td>\n",
       "      <td>0</td>\n",
       "      <td>...</td>\n",
       "      <td>0</td>\n",
       "      <td>0</td>\n",
       "      <td>0</td>\n",
       "      <td>0</td>\n",
       "      <td>Leo</td>\n",
       "      <td>0</td>\n",
       "      <td>0</td>\n",
       "      <td>44.0</td>\n",
       "      <td>1.47</td>\n",
       "      <td>1</td>\n",
       "    </tr>\n",
       "    <tr>\n",
       "      <th>2</th>\n",
       "      <td>58313</td>\n",
       "      <td>0</td>\n",
       "      <td>35.0</td>\n",
       "      <td>R</td>\n",
       "      <td>561.0</td>\n",
       "      <td>47</td>\n",
       "      <td>2</td>\n",
       "      <td>86</td>\n",
       "      <td>47</td>\n",
       "      <td>0</td>\n",
       "      <td>...</td>\n",
       "      <td>0</td>\n",
       "      <td>0</td>\n",
       "      <td>0</td>\n",
       "      <td>0</td>\n",
       "      <td>Capricorn</td>\n",
       "      <td>1</td>\n",
       "      <td>0</td>\n",
       "      <td>65.0</td>\n",
       "      <td>2.17</td>\n",
       "      <td>0</td>\n",
       "    </tr>\n",
       "    <tr>\n",
       "      <th>3</th>\n",
       "      <td>8095</td>\n",
       "      <td>0</td>\n",
       "      <td>26.0</td>\n",
       "      <td>R</td>\n",
       "      <td>567.0</td>\n",
       "      <td>26</td>\n",
       "      <td>3</td>\n",
       "      <td>38</td>\n",
       "      <td>25</td>\n",
       "      <td>0</td>\n",
       "      <td>...</td>\n",
       "      <td>0</td>\n",
       "      <td>0</td>\n",
       "      <td>0</td>\n",
       "      <td>0</td>\n",
       "      <td>Capricorn</td>\n",
       "      <td>0</td>\n",
       "      <td>0</td>\n",
       "      <td>33.0</td>\n",
       "      <td>1.10</td>\n",
       "      <td>1</td>\n",
       "    </tr>\n",
       "    <tr>\n",
       "      <th>4</th>\n",
       "      <td>61353</td>\n",
       "      <td>1</td>\n",
       "      <td>27.0</td>\n",
       "      <td>na</td>\n",
       "      <td>NaN</td>\n",
       "      <td>0</td>\n",
       "      <td>0</td>\n",
       "      <td>2</td>\n",
       "      <td>0</td>\n",
       "      <td>0</td>\n",
       "      <td>...</td>\n",
       "      <td>0</td>\n",
       "      <td>0</td>\n",
       "      <td>0</td>\n",
       "      <td>0</td>\n",
       "      <td>Aries</td>\n",
       "      <td>1</td>\n",
       "      <td>0</td>\n",
       "      <td>1.0</td>\n",
       "      <td>0.03</td>\n",
       "      <td>0</td>\n",
       "    </tr>\n",
       "  </tbody>\n",
       "</table>\n",
       "<p>5 rows × 31 columns</p>\n",
       "</div>"
      ],
      "text/plain": [
       "    user  churn   age housing  credit_score  deposits  withdrawal  \\\n",
       "0  55409      0  37.0      na           NaN         0           0   \n",
       "1  23547      0  28.0       R         486.0         0           0   \n",
       "2  58313      0  35.0       R         561.0        47           2   \n",
       "3   8095      0  26.0       R         567.0        26           3   \n",
       "4  61353      1  27.0      na           NaN         0           0   \n",
       "\n",
       "   purchases_partners  purchases  cc_taken  ...  waiting_4_loan  \\\n",
       "0                   0          0         0  ...               0   \n",
       "1                   1          0         0  ...               0   \n",
       "2                  86         47         0  ...               0   \n",
       "3                  38         25         0  ...               0   \n",
       "4                   2          0         0  ...               0   \n",
       "\n",
       "   cancelled_loan  received_loan  rejected_loan  zodiac_sign  \\\n",
       "0               0              0              0          Leo   \n",
       "1               0              0              0          Leo   \n",
       "2               0              0              0    Capricorn   \n",
       "3               0              0              0    Capricorn   \n",
       "4               0              0              0        Aries   \n",
       "\n",
       "   left_for_two_month_plus  left_for_one_month  rewards_earned  reward_rate  \\\n",
       "0                        1                   0             NaN         0.00   \n",
       "1                        0                   0            44.0         1.47   \n",
       "2                        1                   0            65.0         2.17   \n",
       "3                        0                   0            33.0         1.10   \n",
       "4                        1                   0             1.0         0.03   \n",
       "\n",
       "   is_referred  \n",
       "0            0  \n",
       "1            1  \n",
       "2            0  \n",
       "3            1  \n",
       "4            0  \n",
       "\n",
       "[5 rows x 31 columns]"
      ]
     },
     "execution_count": 29,
     "metadata": {},
     "output_type": "execute_result"
    }
   ],
   "source": [
    "dataset.head()"
   ]
  },
  {
   "cell_type": "code",
   "execution_count": 30,
   "metadata": {
    "colab": {
     "base_uri": "https://localhost:8080/",
     "height": 317
    },
    "colab_type": "code",
    "id": "chZnKiIe0gdk",
    "outputId": "80f84061-2c96-4210-ac17-d4ac1d1a8ec9"
   },
   "outputs": [
    {
     "data": {
      "text/html": [
       "<div>\n",
       "<style scoped>\n",
       "    .dataframe tbody tr th:only-of-type {\n",
       "        vertical-align: middle;\n",
       "    }\n",
       "\n",
       "    .dataframe tbody tr th {\n",
       "        vertical-align: top;\n",
       "    }\n",
       "\n",
       "    .dataframe thead th {\n",
       "        text-align: right;\n",
       "    }\n",
       "</style>\n",
       "<table border=\"1\" class=\"dataframe\">\n",
       "  <thead>\n",
       "    <tr style=\"text-align: right;\">\n",
       "      <th></th>\n",
       "      <th>user</th>\n",
       "      <th>churn</th>\n",
       "      <th>age</th>\n",
       "      <th>credit_score</th>\n",
       "      <th>deposits</th>\n",
       "      <th>withdrawal</th>\n",
       "      <th>purchases_partners</th>\n",
       "      <th>purchases</th>\n",
       "      <th>cc_taken</th>\n",
       "      <th>cc_recommended</th>\n",
       "      <th>...</th>\n",
       "      <th>registered_phones</th>\n",
       "      <th>waiting_4_loan</th>\n",
       "      <th>cancelled_loan</th>\n",
       "      <th>received_loan</th>\n",
       "      <th>rejected_loan</th>\n",
       "      <th>left_for_two_month_plus</th>\n",
       "      <th>left_for_one_month</th>\n",
       "      <th>rewards_earned</th>\n",
       "      <th>reward_rate</th>\n",
       "      <th>is_referred</th>\n",
       "    </tr>\n",
       "  </thead>\n",
       "  <tbody>\n",
       "    <tr>\n",
       "      <th>count</th>\n",
       "      <td>27000.000000</td>\n",
       "      <td>27000.000000</td>\n",
       "      <td>26996.000000</td>\n",
       "      <td>18969.000000</td>\n",
       "      <td>27000.000000</td>\n",
       "      <td>27000.000000</td>\n",
       "      <td>27000.000000</td>\n",
       "      <td>27000.000000</td>\n",
       "      <td>27000.000000</td>\n",
       "      <td>27000.000000</td>\n",
       "      <td>...</td>\n",
       "      <td>27000.000000</td>\n",
       "      <td>27000.000000</td>\n",
       "      <td>27000.000000</td>\n",
       "      <td>27000.000000</td>\n",
       "      <td>27000.000000</td>\n",
       "      <td>27000.000000</td>\n",
       "      <td>27000.000000</td>\n",
       "      <td>23773.000000</td>\n",
       "      <td>27000.000000</td>\n",
       "      <td>27000.000000</td>\n",
       "    </tr>\n",
       "    <tr>\n",
       "      <th>mean</th>\n",
       "      <td>35422.702519</td>\n",
       "      <td>0.413852</td>\n",
       "      <td>32.219921</td>\n",
       "      <td>542.944225</td>\n",
       "      <td>3.341556</td>\n",
       "      <td>0.307000</td>\n",
       "      <td>28.062519</td>\n",
       "      <td>3.273481</td>\n",
       "      <td>0.073778</td>\n",
       "      <td>92.625778</td>\n",
       "      <td>...</td>\n",
       "      <td>0.420926</td>\n",
       "      <td>0.001296</td>\n",
       "      <td>0.018815</td>\n",
       "      <td>0.018185</td>\n",
       "      <td>0.004889</td>\n",
       "      <td>0.173444</td>\n",
       "      <td>0.018074</td>\n",
       "      <td>29.110125</td>\n",
       "      <td>0.907684</td>\n",
       "      <td>0.318037</td>\n",
       "    </tr>\n",
       "    <tr>\n",
       "      <th>std</th>\n",
       "      <td>20321.006678</td>\n",
       "      <td>0.492532</td>\n",
       "      <td>9.964838</td>\n",
       "      <td>61.059315</td>\n",
       "      <td>9.131406</td>\n",
       "      <td>1.055416</td>\n",
       "      <td>42.219686</td>\n",
       "      <td>8.953077</td>\n",
       "      <td>0.437299</td>\n",
       "      <td>88.869343</td>\n",
       "      <td>...</td>\n",
       "      <td>0.912831</td>\n",
       "      <td>0.035981</td>\n",
       "      <td>0.135873</td>\n",
       "      <td>0.133623</td>\n",
       "      <td>0.069751</td>\n",
       "      <td>0.378638</td>\n",
       "      <td>0.133222</td>\n",
       "      <td>21.973478</td>\n",
       "      <td>0.752016</td>\n",
       "      <td>0.465723</td>\n",
       "    </tr>\n",
       "    <tr>\n",
       "      <th>min</th>\n",
       "      <td>1.000000</td>\n",
       "      <td>0.000000</td>\n",
       "      <td>17.000000</td>\n",
       "      <td>2.000000</td>\n",
       "      <td>0.000000</td>\n",
       "      <td>0.000000</td>\n",
       "      <td>0.000000</td>\n",
       "      <td>0.000000</td>\n",
       "      <td>0.000000</td>\n",
       "      <td>0.000000</td>\n",
       "      <td>...</td>\n",
       "      <td>0.000000</td>\n",
       "      <td>0.000000</td>\n",
       "      <td>0.000000</td>\n",
       "      <td>0.000000</td>\n",
       "      <td>0.000000</td>\n",
       "      <td>0.000000</td>\n",
       "      <td>0.000000</td>\n",
       "      <td>1.000000</td>\n",
       "      <td>0.000000</td>\n",
       "      <td>0.000000</td>\n",
       "    </tr>\n",
       "    <tr>\n",
       "      <th>25%</th>\n",
       "      <td>17810.500000</td>\n",
       "      <td>0.000000</td>\n",
       "      <td>25.000000</td>\n",
       "      <td>507.000000</td>\n",
       "      <td>0.000000</td>\n",
       "      <td>0.000000</td>\n",
       "      <td>0.000000</td>\n",
       "      <td>0.000000</td>\n",
       "      <td>0.000000</td>\n",
       "      <td>10.000000</td>\n",
       "      <td>...</td>\n",
       "      <td>0.000000</td>\n",
       "      <td>0.000000</td>\n",
       "      <td>0.000000</td>\n",
       "      <td>0.000000</td>\n",
       "      <td>0.000000</td>\n",
       "      <td>0.000000</td>\n",
       "      <td>0.000000</td>\n",
       "      <td>9.000000</td>\n",
       "      <td>0.200000</td>\n",
       "      <td>0.000000</td>\n",
       "    </tr>\n",
       "    <tr>\n",
       "      <th>50%</th>\n",
       "      <td>35749.000000</td>\n",
       "      <td>0.000000</td>\n",
       "      <td>30.000000</td>\n",
       "      <td>542.000000</td>\n",
       "      <td>0.000000</td>\n",
       "      <td>0.000000</td>\n",
       "      <td>9.000000</td>\n",
       "      <td>0.000000</td>\n",
       "      <td>0.000000</td>\n",
       "      <td>65.000000</td>\n",
       "      <td>...</td>\n",
       "      <td>0.000000</td>\n",
       "      <td>0.000000</td>\n",
       "      <td>0.000000</td>\n",
       "      <td>0.000000</td>\n",
       "      <td>0.000000</td>\n",
       "      <td>0.000000</td>\n",
       "      <td>0.000000</td>\n",
       "      <td>25.000000</td>\n",
       "      <td>0.780000</td>\n",
       "      <td>0.000000</td>\n",
       "    </tr>\n",
       "    <tr>\n",
       "      <th>75%</th>\n",
       "      <td>53244.250000</td>\n",
       "      <td>1.000000</td>\n",
       "      <td>37.000000</td>\n",
       "      <td>578.000000</td>\n",
       "      <td>1.000000</td>\n",
       "      <td>0.000000</td>\n",
       "      <td>43.000000</td>\n",
       "      <td>1.000000</td>\n",
       "      <td>0.000000</td>\n",
       "      <td>164.000000</td>\n",
       "      <td>...</td>\n",
       "      <td>0.000000</td>\n",
       "      <td>0.000000</td>\n",
       "      <td>0.000000</td>\n",
       "      <td>0.000000</td>\n",
       "      <td>0.000000</td>\n",
       "      <td>0.000000</td>\n",
       "      <td>0.000000</td>\n",
       "      <td>48.000000</td>\n",
       "      <td>1.530000</td>\n",
       "      <td>1.000000</td>\n",
       "    </tr>\n",
       "    <tr>\n",
       "      <th>max</th>\n",
       "      <td>69658.000000</td>\n",
       "      <td>1.000000</td>\n",
       "      <td>91.000000</td>\n",
       "      <td>838.000000</td>\n",
       "      <td>65.000000</td>\n",
       "      <td>29.000000</td>\n",
       "      <td>1067.000000</td>\n",
       "      <td>63.000000</td>\n",
       "      <td>29.000000</td>\n",
       "      <td>522.000000</td>\n",
       "      <td>...</td>\n",
       "      <td>5.000000</td>\n",
       "      <td>1.000000</td>\n",
       "      <td>1.000000</td>\n",
       "      <td>1.000000</td>\n",
       "      <td>1.000000</td>\n",
       "      <td>1.000000</td>\n",
       "      <td>1.000000</td>\n",
       "      <td>114.000000</td>\n",
       "      <td>4.000000</td>\n",
       "      <td>1.000000</td>\n",
       "    </tr>\n",
       "  </tbody>\n",
       "</table>\n",
       "<p>8 rows × 28 columns</p>\n",
       "</div>"
      ],
      "text/plain": [
       "               user         churn           age  credit_score      deposits  \\\n",
       "count  27000.000000  27000.000000  26996.000000  18969.000000  27000.000000   \n",
       "mean   35422.702519      0.413852     32.219921    542.944225      3.341556   \n",
       "std    20321.006678      0.492532      9.964838     61.059315      9.131406   \n",
       "min        1.000000      0.000000     17.000000      2.000000      0.000000   \n",
       "25%    17810.500000      0.000000     25.000000    507.000000      0.000000   \n",
       "50%    35749.000000      0.000000     30.000000    542.000000      0.000000   \n",
       "75%    53244.250000      1.000000     37.000000    578.000000      1.000000   \n",
       "max    69658.000000      1.000000     91.000000    838.000000     65.000000   \n",
       "\n",
       "         withdrawal  purchases_partners     purchases      cc_taken  \\\n",
       "count  27000.000000        27000.000000  27000.000000  27000.000000   \n",
       "mean       0.307000           28.062519      3.273481      0.073778   \n",
       "std        1.055416           42.219686      8.953077      0.437299   \n",
       "min        0.000000            0.000000      0.000000      0.000000   \n",
       "25%        0.000000            0.000000      0.000000      0.000000   \n",
       "50%        0.000000            9.000000      0.000000      0.000000   \n",
       "75%        0.000000           43.000000      1.000000      0.000000   \n",
       "max       29.000000         1067.000000     63.000000     29.000000   \n",
       "\n",
       "       cc_recommended  ...  registered_phones  waiting_4_loan  cancelled_loan  \\\n",
       "count    27000.000000  ...       27000.000000    27000.000000    27000.000000   \n",
       "mean        92.625778  ...           0.420926        0.001296        0.018815   \n",
       "std         88.869343  ...           0.912831        0.035981        0.135873   \n",
       "min          0.000000  ...           0.000000        0.000000        0.000000   \n",
       "25%         10.000000  ...           0.000000        0.000000        0.000000   \n",
       "50%         65.000000  ...           0.000000        0.000000        0.000000   \n",
       "75%        164.000000  ...           0.000000        0.000000        0.000000   \n",
       "max        522.000000  ...           5.000000        1.000000        1.000000   \n",
       "\n",
       "       received_loan  rejected_loan  left_for_two_month_plus  \\\n",
       "count   27000.000000   27000.000000             27000.000000   \n",
       "mean        0.018185       0.004889                 0.173444   \n",
       "std         0.133623       0.069751                 0.378638   \n",
       "min         0.000000       0.000000                 0.000000   \n",
       "25%         0.000000       0.000000                 0.000000   \n",
       "50%         0.000000       0.000000                 0.000000   \n",
       "75%         0.000000       0.000000                 0.000000   \n",
       "max         1.000000       1.000000                 1.000000   \n",
       "\n",
       "       left_for_one_month  rewards_earned   reward_rate   is_referred  \n",
       "count        27000.000000    23773.000000  27000.000000  27000.000000  \n",
       "mean             0.018074       29.110125      0.907684      0.318037  \n",
       "std              0.133222       21.973478      0.752016      0.465723  \n",
       "min              0.000000        1.000000      0.000000      0.000000  \n",
       "25%              0.000000        9.000000      0.200000      0.000000  \n",
       "50%              0.000000       25.000000      0.780000      0.000000  \n",
       "75%              0.000000       48.000000      1.530000      1.000000  \n",
       "max              1.000000      114.000000      4.000000      1.000000  \n",
       "\n",
       "[8 rows x 28 columns]"
      ]
     },
     "execution_count": 30,
     "metadata": {},
     "output_type": "execute_result"
    }
   ],
   "source": [
    "dataset.describe()"
   ]
  },
  {
   "cell_type": "code",
   "execution_count": 31,
   "metadata": {
    "colab": {
     "base_uri": "https://localhost:8080/",
     "height": 1000
    },
    "colab_type": "code",
    "id": "pgKeVn3A0ghU",
    "outputId": "3044cfac-9b04-4499-9338-bf5b786a7c1d",
    "scrolled": true
   },
   "outputs": [
    {
     "data": {
      "text/html": [
       "<div>\n",
       "<style scoped>\n",
       "    .dataframe tbody tr th:only-of-type {\n",
       "        vertical-align: middle;\n",
       "    }\n",
       "\n",
       "    .dataframe tbody tr th {\n",
       "        vertical-align: top;\n",
       "    }\n",
       "\n",
       "    .dataframe thead th {\n",
       "        text-align: right;\n",
       "    }\n",
       "</style>\n",
       "<table border=\"1\" class=\"dataframe\">\n",
       "  <thead>\n",
       "    <tr style=\"text-align: right;\">\n",
       "      <th></th>\n",
       "      <th>user</th>\n",
       "      <th>churn</th>\n",
       "      <th>age</th>\n",
       "      <th>housing</th>\n",
       "      <th>credit_score</th>\n",
       "      <th>deposits</th>\n",
       "      <th>withdrawal</th>\n",
       "      <th>purchases_partners</th>\n",
       "      <th>purchases</th>\n",
       "      <th>cc_taken</th>\n",
       "      <th>...</th>\n",
       "      <th>waiting_4_loan</th>\n",
       "      <th>cancelled_loan</th>\n",
       "      <th>received_loan</th>\n",
       "      <th>rejected_loan</th>\n",
       "      <th>zodiac_sign</th>\n",
       "      <th>left_for_two_month_plus</th>\n",
       "      <th>left_for_one_month</th>\n",
       "      <th>rewards_earned</th>\n",
       "      <th>reward_rate</th>\n",
       "      <th>is_referred</th>\n",
       "    </tr>\n",
       "  </thead>\n",
       "  <tbody>\n",
       "    <tr>\n",
       "      <th>0</th>\n",
       "      <td>False</td>\n",
       "      <td>False</td>\n",
       "      <td>False</td>\n",
       "      <td>False</td>\n",
       "      <td>True</td>\n",
       "      <td>False</td>\n",
       "      <td>False</td>\n",
       "      <td>False</td>\n",
       "      <td>False</td>\n",
       "      <td>False</td>\n",
       "      <td>...</td>\n",
       "      <td>False</td>\n",
       "      <td>False</td>\n",
       "      <td>False</td>\n",
       "      <td>False</td>\n",
       "      <td>False</td>\n",
       "      <td>False</td>\n",
       "      <td>False</td>\n",
       "      <td>True</td>\n",
       "      <td>False</td>\n",
       "      <td>False</td>\n",
       "    </tr>\n",
       "    <tr>\n",
       "      <th>1</th>\n",
       "      <td>False</td>\n",
       "      <td>False</td>\n",
       "      <td>False</td>\n",
       "      <td>False</td>\n",
       "      <td>False</td>\n",
       "      <td>False</td>\n",
       "      <td>False</td>\n",
       "      <td>False</td>\n",
       "      <td>False</td>\n",
       "      <td>False</td>\n",
       "      <td>...</td>\n",
       "      <td>False</td>\n",
       "      <td>False</td>\n",
       "      <td>False</td>\n",
       "      <td>False</td>\n",
       "      <td>False</td>\n",
       "      <td>False</td>\n",
       "      <td>False</td>\n",
       "      <td>False</td>\n",
       "      <td>False</td>\n",
       "      <td>False</td>\n",
       "    </tr>\n",
       "    <tr>\n",
       "      <th>2</th>\n",
       "      <td>False</td>\n",
       "      <td>False</td>\n",
       "      <td>False</td>\n",
       "      <td>False</td>\n",
       "      <td>False</td>\n",
       "      <td>False</td>\n",
       "      <td>False</td>\n",
       "      <td>False</td>\n",
       "      <td>False</td>\n",
       "      <td>False</td>\n",
       "      <td>...</td>\n",
       "      <td>False</td>\n",
       "      <td>False</td>\n",
       "      <td>False</td>\n",
       "      <td>False</td>\n",
       "      <td>False</td>\n",
       "      <td>False</td>\n",
       "      <td>False</td>\n",
       "      <td>False</td>\n",
       "      <td>False</td>\n",
       "      <td>False</td>\n",
       "    </tr>\n",
       "    <tr>\n",
       "      <th>3</th>\n",
       "      <td>False</td>\n",
       "      <td>False</td>\n",
       "      <td>False</td>\n",
       "      <td>False</td>\n",
       "      <td>False</td>\n",
       "      <td>False</td>\n",
       "      <td>False</td>\n",
       "      <td>False</td>\n",
       "      <td>False</td>\n",
       "      <td>False</td>\n",
       "      <td>...</td>\n",
       "      <td>False</td>\n",
       "      <td>False</td>\n",
       "      <td>False</td>\n",
       "      <td>False</td>\n",
       "      <td>False</td>\n",
       "      <td>False</td>\n",
       "      <td>False</td>\n",
       "      <td>False</td>\n",
       "      <td>False</td>\n",
       "      <td>False</td>\n",
       "    </tr>\n",
       "    <tr>\n",
       "      <th>4</th>\n",
       "      <td>False</td>\n",
       "      <td>False</td>\n",
       "      <td>False</td>\n",
       "      <td>False</td>\n",
       "      <td>True</td>\n",
       "      <td>False</td>\n",
       "      <td>False</td>\n",
       "      <td>False</td>\n",
       "      <td>False</td>\n",
       "      <td>False</td>\n",
       "      <td>...</td>\n",
       "      <td>False</td>\n",
       "      <td>False</td>\n",
       "      <td>False</td>\n",
       "      <td>False</td>\n",
       "      <td>False</td>\n",
       "      <td>False</td>\n",
       "      <td>False</td>\n",
       "      <td>False</td>\n",
       "      <td>False</td>\n",
       "      <td>False</td>\n",
       "    </tr>\n",
       "    <tr>\n",
       "      <th>...</th>\n",
       "      <td>...</td>\n",
       "      <td>...</td>\n",
       "      <td>...</td>\n",
       "      <td>...</td>\n",
       "      <td>...</td>\n",
       "      <td>...</td>\n",
       "      <td>...</td>\n",
       "      <td>...</td>\n",
       "      <td>...</td>\n",
       "      <td>...</td>\n",
       "      <td>...</td>\n",
       "      <td>...</td>\n",
       "      <td>...</td>\n",
       "      <td>...</td>\n",
       "      <td>...</td>\n",
       "      <td>...</td>\n",
       "      <td>...</td>\n",
       "      <td>...</td>\n",
       "      <td>...</td>\n",
       "      <td>...</td>\n",
       "      <td>...</td>\n",
       "    </tr>\n",
       "    <tr>\n",
       "      <th>26995</th>\n",
       "      <td>False</td>\n",
       "      <td>False</td>\n",
       "      <td>False</td>\n",
       "      <td>False</td>\n",
       "      <td>False</td>\n",
       "      <td>False</td>\n",
       "      <td>False</td>\n",
       "      <td>False</td>\n",
       "      <td>False</td>\n",
       "      <td>False</td>\n",
       "      <td>...</td>\n",
       "      <td>False</td>\n",
       "      <td>False</td>\n",
       "      <td>False</td>\n",
       "      <td>False</td>\n",
       "      <td>False</td>\n",
       "      <td>False</td>\n",
       "      <td>False</td>\n",
       "      <td>False</td>\n",
       "      <td>False</td>\n",
       "      <td>False</td>\n",
       "    </tr>\n",
       "    <tr>\n",
       "      <th>26996</th>\n",
       "      <td>False</td>\n",
       "      <td>False</td>\n",
       "      <td>False</td>\n",
       "      <td>False</td>\n",
       "      <td>True</td>\n",
       "      <td>False</td>\n",
       "      <td>False</td>\n",
       "      <td>False</td>\n",
       "      <td>False</td>\n",
       "      <td>False</td>\n",
       "      <td>...</td>\n",
       "      <td>False</td>\n",
       "      <td>False</td>\n",
       "      <td>False</td>\n",
       "      <td>False</td>\n",
       "      <td>False</td>\n",
       "      <td>False</td>\n",
       "      <td>False</td>\n",
       "      <td>False</td>\n",
       "      <td>False</td>\n",
       "      <td>False</td>\n",
       "    </tr>\n",
       "    <tr>\n",
       "      <th>26997</th>\n",
       "      <td>False</td>\n",
       "      <td>False</td>\n",
       "      <td>False</td>\n",
       "      <td>False</td>\n",
       "      <td>True</td>\n",
       "      <td>False</td>\n",
       "      <td>False</td>\n",
       "      <td>False</td>\n",
       "      <td>False</td>\n",
       "      <td>False</td>\n",
       "      <td>...</td>\n",
       "      <td>False</td>\n",
       "      <td>False</td>\n",
       "      <td>False</td>\n",
       "      <td>False</td>\n",
       "      <td>False</td>\n",
       "      <td>False</td>\n",
       "      <td>False</td>\n",
       "      <td>False</td>\n",
       "      <td>False</td>\n",
       "      <td>False</td>\n",
       "    </tr>\n",
       "    <tr>\n",
       "      <th>26998</th>\n",
       "      <td>False</td>\n",
       "      <td>False</td>\n",
       "      <td>False</td>\n",
       "      <td>False</td>\n",
       "      <td>False</td>\n",
       "      <td>False</td>\n",
       "      <td>False</td>\n",
       "      <td>False</td>\n",
       "      <td>False</td>\n",
       "      <td>False</td>\n",
       "      <td>...</td>\n",
       "      <td>False</td>\n",
       "      <td>False</td>\n",
       "      <td>False</td>\n",
       "      <td>False</td>\n",
       "      <td>False</td>\n",
       "      <td>False</td>\n",
       "      <td>False</td>\n",
       "      <td>False</td>\n",
       "      <td>False</td>\n",
       "      <td>False</td>\n",
       "    </tr>\n",
       "    <tr>\n",
       "      <th>26999</th>\n",
       "      <td>False</td>\n",
       "      <td>False</td>\n",
       "      <td>False</td>\n",
       "      <td>False</td>\n",
       "      <td>False</td>\n",
       "      <td>False</td>\n",
       "      <td>False</td>\n",
       "      <td>False</td>\n",
       "      <td>False</td>\n",
       "      <td>False</td>\n",
       "      <td>...</td>\n",
       "      <td>False</td>\n",
       "      <td>False</td>\n",
       "      <td>False</td>\n",
       "      <td>False</td>\n",
       "      <td>False</td>\n",
       "      <td>False</td>\n",
       "      <td>False</td>\n",
       "      <td>False</td>\n",
       "      <td>False</td>\n",
       "      <td>False</td>\n",
       "    </tr>\n",
       "  </tbody>\n",
       "</table>\n",
       "<p>27000 rows × 31 columns</p>\n",
       "</div>"
      ],
      "text/plain": [
       "        user  churn    age  housing  credit_score  deposits  withdrawal  \\\n",
       "0      False  False  False    False          True     False       False   \n",
       "1      False  False  False    False         False     False       False   \n",
       "2      False  False  False    False         False     False       False   \n",
       "3      False  False  False    False         False     False       False   \n",
       "4      False  False  False    False          True     False       False   \n",
       "...      ...    ...    ...      ...           ...       ...         ...   \n",
       "26995  False  False  False    False         False     False       False   \n",
       "26996  False  False  False    False          True     False       False   \n",
       "26997  False  False  False    False          True     False       False   \n",
       "26998  False  False  False    False         False     False       False   \n",
       "26999  False  False  False    False         False     False       False   \n",
       "\n",
       "       purchases_partners  purchases  cc_taken  ...  waiting_4_loan  \\\n",
       "0                   False      False     False  ...           False   \n",
       "1                   False      False     False  ...           False   \n",
       "2                   False      False     False  ...           False   \n",
       "3                   False      False     False  ...           False   \n",
       "4                   False      False     False  ...           False   \n",
       "...                   ...        ...       ...  ...             ...   \n",
       "26995               False      False     False  ...           False   \n",
       "26996               False      False     False  ...           False   \n",
       "26997               False      False     False  ...           False   \n",
       "26998               False      False     False  ...           False   \n",
       "26999               False      False     False  ...           False   \n",
       "\n",
       "       cancelled_loan  received_loan  rejected_loan  zodiac_sign  \\\n",
       "0               False          False          False        False   \n",
       "1               False          False          False        False   \n",
       "2               False          False          False        False   \n",
       "3               False          False          False        False   \n",
       "4               False          False          False        False   \n",
       "...               ...            ...            ...          ...   \n",
       "26995           False          False          False        False   \n",
       "26996           False          False          False        False   \n",
       "26997           False          False          False        False   \n",
       "26998           False          False          False        False   \n",
       "26999           False          False          False        False   \n",
       "\n",
       "       left_for_two_month_plus  left_for_one_month  rewards_earned  \\\n",
       "0                        False               False            True   \n",
       "1                        False               False           False   \n",
       "2                        False               False           False   \n",
       "3                        False               False           False   \n",
       "4                        False               False           False   \n",
       "...                        ...                 ...             ...   \n",
       "26995                    False               False           False   \n",
       "26996                    False               False           False   \n",
       "26997                    False               False           False   \n",
       "26998                    False               False           False   \n",
       "26999                    False               False           False   \n",
       "\n",
       "       reward_rate  is_referred  \n",
       "0            False        False  \n",
       "1            False        False  \n",
       "2            False        False  \n",
       "3            False        False  \n",
       "4            False        False  \n",
       "...            ...          ...  \n",
       "26995        False        False  \n",
       "26996        False        False  \n",
       "26997        False        False  \n",
       "26998        False        False  \n",
       "26999        False        False  \n",
       "\n",
       "[27000 rows x 31 columns]"
      ]
     },
     "execution_count": 31,
     "metadata": {},
     "output_type": "execute_result"
    }
   ],
   "source": [
    "dataset.isna()"
   ]
  },
  {
   "cell_type": "code",
   "execution_count": 32,
   "metadata": {
    "colab": {
     "base_uri": "https://localhost:8080/",
     "height": 561
    },
    "colab_type": "code",
    "id": "2DU5YR1l0glD",
    "outputId": "18f5636a-fac3-4a27-b651-0ac6cf017661"
   },
   "outputs": [
    {
     "data": {
      "text/plain": [
       "user                          0\n",
       "churn                         0\n",
       "age                           4\n",
       "housing                       0\n",
       "credit_score               8031\n",
       "deposits                      0\n",
       "withdrawal                    0\n",
       "purchases_partners            0\n",
       "purchases                     0\n",
       "cc_taken                      0\n",
       "cc_recommended                0\n",
       "cc_disliked                   0\n",
       "cc_liked                      0\n",
       "cc_application_begin          0\n",
       "app_downloaded                0\n",
       "web_user                      0\n",
       "app_web_user                  0\n",
       "ios_user                      0\n",
       "android_user                  0\n",
       "registered_phones             0\n",
       "payment_type                  0\n",
       "waiting_4_loan                0\n",
       "cancelled_loan                0\n",
       "received_loan                 0\n",
       "rejected_loan                 0\n",
       "zodiac_sign                   0\n",
       "left_for_two_month_plus       0\n",
       "left_for_one_month            0\n",
       "rewards_earned             3227\n",
       "reward_rate                   0\n",
       "is_referred                   0\n",
       "dtype: int64"
      ]
     },
     "execution_count": 32,
     "metadata": {},
     "output_type": "execute_result"
    }
   ],
   "source": [
    "dataset.isna().sum()"
   ]
  },
  {
   "cell_type": "code",
   "execution_count": 33,
   "metadata": {
    "colab": {},
    "colab_type": "code",
    "id": "Lfq5ETUv0go1"
   },
   "outputs": [],
   "source": [
    "dataset = dataset.drop(columns=['credit_score','rewards_earned'])"
   ]
  },
  {
   "cell_type": "code",
   "execution_count": 34,
   "metadata": {
    "colab": {},
    "colab_type": "code",
    "id": "tmaOyiOe0gsu"
   },
   "outputs": [],
   "source": [
    "dataset = dataset[pd.notnull(dataset['age'])]"
   ]
  },
  {
   "cell_type": "code",
   "execution_count": 35,
   "metadata": {
    "colab": {
     "base_uri": "https://localhost:8080/",
     "height": 527
    },
    "colab_type": "code",
    "id": "rH_2HBj67JeZ",
    "outputId": "ae755f3d-a214-4a36-b8f6-8de3add5864d"
   },
   "outputs": [
    {
     "data": {
      "text/plain": [
       "user                       0\n",
       "churn                      0\n",
       "age                        0\n",
       "housing                    0\n",
       "deposits                   0\n",
       "withdrawal                 0\n",
       "purchases_partners         0\n",
       "purchases                  0\n",
       "cc_taken                   0\n",
       "cc_recommended             0\n",
       "cc_disliked                0\n",
       "cc_liked                   0\n",
       "cc_application_begin       0\n",
       "app_downloaded             0\n",
       "web_user                   0\n",
       "app_web_user               0\n",
       "ios_user                   0\n",
       "android_user               0\n",
       "registered_phones          0\n",
       "payment_type               0\n",
       "waiting_4_loan             0\n",
       "cancelled_loan             0\n",
       "received_loan              0\n",
       "rejected_loan              0\n",
       "zodiac_sign                0\n",
       "left_for_two_month_plus    0\n",
       "left_for_one_month         0\n",
       "reward_rate                0\n",
       "is_referred                0\n",
       "dtype: int64"
      ]
     },
     "execution_count": 35,
     "metadata": {},
     "output_type": "execute_result"
    }
   ],
   "source": [
    "dataset.isna().sum()"
   ]
  },
  {
   "cell_type": "code",
   "execution_count": 36,
   "metadata": {
    "colab": {},
    "colab_type": "code",
    "id": "DdHdxWSf7O4D"
   },
   "outputs": [],
   "source": [
    "d2=dataset.drop(columns=['user','churn'])"
   ]
  },
  {
   "cell_type": "code",
   "execution_count": 37,
   "metadata": {
    "colab": {
     "base_uri": "https://localhost:8080/",
     "height": 224
    },
    "colab_type": "code",
    "id": "OinRaFD68ZDT",
    "outputId": "6095d831-f1c7-46ee-827a-0745ad51d78c"
   },
   "outputs": [
    {
     "data": {
      "text/html": [
       "<div>\n",
       "<style scoped>\n",
       "    .dataframe tbody tr th:only-of-type {\n",
       "        vertical-align: middle;\n",
       "    }\n",
       "\n",
       "    .dataframe tbody tr th {\n",
       "        vertical-align: top;\n",
       "    }\n",
       "\n",
       "    .dataframe thead th {\n",
       "        text-align: right;\n",
       "    }\n",
       "</style>\n",
       "<table border=\"1\" class=\"dataframe\">\n",
       "  <thead>\n",
       "    <tr style=\"text-align: right;\">\n",
       "      <th></th>\n",
       "      <th>age</th>\n",
       "      <th>housing</th>\n",
       "      <th>deposits</th>\n",
       "      <th>withdrawal</th>\n",
       "      <th>purchases_partners</th>\n",
       "      <th>purchases</th>\n",
       "      <th>cc_taken</th>\n",
       "      <th>cc_recommended</th>\n",
       "      <th>cc_disliked</th>\n",
       "      <th>cc_liked</th>\n",
       "      <th>...</th>\n",
       "      <th>payment_type</th>\n",
       "      <th>waiting_4_loan</th>\n",
       "      <th>cancelled_loan</th>\n",
       "      <th>received_loan</th>\n",
       "      <th>rejected_loan</th>\n",
       "      <th>zodiac_sign</th>\n",
       "      <th>left_for_two_month_plus</th>\n",
       "      <th>left_for_one_month</th>\n",
       "      <th>reward_rate</th>\n",
       "      <th>is_referred</th>\n",
       "    </tr>\n",
       "  </thead>\n",
       "  <tbody>\n",
       "    <tr>\n",
       "      <th>0</th>\n",
       "      <td>37.0</td>\n",
       "      <td>na</td>\n",
       "      <td>0</td>\n",
       "      <td>0</td>\n",
       "      <td>0</td>\n",
       "      <td>0</td>\n",
       "      <td>0</td>\n",
       "      <td>0</td>\n",
       "      <td>0</td>\n",
       "      <td>0</td>\n",
       "      <td>...</td>\n",
       "      <td>Bi-Weekly</td>\n",
       "      <td>0</td>\n",
       "      <td>0</td>\n",
       "      <td>0</td>\n",
       "      <td>0</td>\n",
       "      <td>Leo</td>\n",
       "      <td>1</td>\n",
       "      <td>0</td>\n",
       "      <td>0.00</td>\n",
       "      <td>0</td>\n",
       "    </tr>\n",
       "    <tr>\n",
       "      <th>1</th>\n",
       "      <td>28.0</td>\n",
       "      <td>R</td>\n",
       "      <td>0</td>\n",
       "      <td>0</td>\n",
       "      <td>1</td>\n",
       "      <td>0</td>\n",
       "      <td>0</td>\n",
       "      <td>96</td>\n",
       "      <td>0</td>\n",
       "      <td>0</td>\n",
       "      <td>...</td>\n",
       "      <td>Weekly</td>\n",
       "      <td>0</td>\n",
       "      <td>0</td>\n",
       "      <td>0</td>\n",
       "      <td>0</td>\n",
       "      <td>Leo</td>\n",
       "      <td>0</td>\n",
       "      <td>0</td>\n",
       "      <td>1.47</td>\n",
       "      <td>1</td>\n",
       "    </tr>\n",
       "    <tr>\n",
       "      <th>2</th>\n",
       "      <td>35.0</td>\n",
       "      <td>R</td>\n",
       "      <td>47</td>\n",
       "      <td>2</td>\n",
       "      <td>86</td>\n",
       "      <td>47</td>\n",
       "      <td>0</td>\n",
       "      <td>285</td>\n",
       "      <td>0</td>\n",
       "      <td>0</td>\n",
       "      <td>...</td>\n",
       "      <td>Semi-Monthly</td>\n",
       "      <td>0</td>\n",
       "      <td>0</td>\n",
       "      <td>0</td>\n",
       "      <td>0</td>\n",
       "      <td>Capricorn</td>\n",
       "      <td>1</td>\n",
       "      <td>0</td>\n",
       "      <td>2.17</td>\n",
       "      <td>0</td>\n",
       "    </tr>\n",
       "    <tr>\n",
       "      <th>3</th>\n",
       "      <td>26.0</td>\n",
       "      <td>R</td>\n",
       "      <td>26</td>\n",
       "      <td>3</td>\n",
       "      <td>38</td>\n",
       "      <td>25</td>\n",
       "      <td>0</td>\n",
       "      <td>74</td>\n",
       "      <td>0</td>\n",
       "      <td>0</td>\n",
       "      <td>...</td>\n",
       "      <td>Bi-Weekly</td>\n",
       "      <td>0</td>\n",
       "      <td>0</td>\n",
       "      <td>0</td>\n",
       "      <td>0</td>\n",
       "      <td>Capricorn</td>\n",
       "      <td>0</td>\n",
       "      <td>0</td>\n",
       "      <td>1.10</td>\n",
       "      <td>1</td>\n",
       "    </tr>\n",
       "    <tr>\n",
       "      <th>4</th>\n",
       "      <td>27.0</td>\n",
       "      <td>na</td>\n",
       "      <td>0</td>\n",
       "      <td>0</td>\n",
       "      <td>2</td>\n",
       "      <td>0</td>\n",
       "      <td>0</td>\n",
       "      <td>0</td>\n",
       "      <td>0</td>\n",
       "      <td>0</td>\n",
       "      <td>...</td>\n",
       "      <td>Bi-Weekly</td>\n",
       "      <td>0</td>\n",
       "      <td>0</td>\n",
       "      <td>0</td>\n",
       "      <td>0</td>\n",
       "      <td>Aries</td>\n",
       "      <td>1</td>\n",
       "      <td>0</td>\n",
       "      <td>0.03</td>\n",
       "      <td>0</td>\n",
       "    </tr>\n",
       "  </tbody>\n",
       "</table>\n",
       "<p>5 rows × 27 columns</p>\n",
       "</div>"
      ],
      "text/plain": [
       "    age housing  deposits  withdrawal  purchases_partners  purchases  \\\n",
       "0  37.0      na         0           0                   0          0   \n",
       "1  28.0       R         0           0                   1          0   \n",
       "2  35.0       R        47           2                  86         47   \n",
       "3  26.0       R        26           3                  38         25   \n",
       "4  27.0      na         0           0                   2          0   \n",
       "\n",
       "   cc_taken  cc_recommended  cc_disliked  cc_liked  ...  payment_type  \\\n",
       "0         0               0            0         0  ...     Bi-Weekly   \n",
       "1         0              96            0         0  ...        Weekly   \n",
       "2         0             285            0         0  ...  Semi-Monthly   \n",
       "3         0              74            0         0  ...     Bi-Weekly   \n",
       "4         0               0            0         0  ...     Bi-Weekly   \n",
       "\n",
       "   waiting_4_loan  cancelled_loan  received_loan  rejected_loan  zodiac_sign  \\\n",
       "0               0               0              0              0          Leo   \n",
       "1               0               0              0              0          Leo   \n",
       "2               0               0              0              0    Capricorn   \n",
       "3               0               0              0              0    Capricorn   \n",
       "4               0               0              0              0        Aries   \n",
       "\n",
       "   left_for_two_month_plus left_for_one_month  reward_rate  is_referred  \n",
       "0                        1                  0         0.00            0  \n",
       "1                        0                  0         1.47            1  \n",
       "2                        1                  0         2.17            0  \n",
       "3                        0                  0         1.10            1  \n",
       "4                        1                  0         0.03            0  \n",
       "\n",
       "[5 rows x 27 columns]"
      ]
     },
     "execution_count": 37,
     "metadata": {},
     "output_type": "execute_result"
    }
   ],
   "source": [
    "d2.head()"
   ]
  },
  {
   "cell_type": "code",
   "execution_count": 38,
   "metadata": {
    "colab": {},
    "colab_type": "code",
    "id": "Q6b8CPYx8aUT"
   },
   "outputs": [
    {
     "name": "stderr",
     "output_type": "stream",
     "text": [
      "C:\\Users\\rahul pahuja\\anaconda3\\lib\\site-packages\\ipykernel_launcher.py:9: UserWarning: Tight layout not applied. tight_layout cannot make axes width small enough to accommodate all axes decorations\n",
      "  if __name__ == '__main__':\n"
     ]
    },
    {
     "data": {
      "image/png": "[encoded data removed]",
      "text/plain": [
       "<Figure size 360x360 with 27 Axes>"
      ]
     },
     "metadata": {},
     "output_type": "display_data"
    }
   ],
   "source": [
    "#@title Google colab will take insane amount of time to genrate all the hist.....better to use notebook with own GPU\n",
    "fig=plt.figure(figsize=(5,5))\n",
    "for i in range(1,d2.shape[1]+1):\n",
    "  plt.subplot(6,5,i)\n",
    "  f=plt.gca()\n",
    "  f.set_title(d2.columns.values[i-1])\n",
    "  vals=np.size(d2.iloc[:,i-1].unique())\n",
    "  plt.hist(d2.iloc[:,i-1],bins=vals)\n",
    "plt.tight_layout(rect=[0,0.83,1,0.95])"
   ]
  },
  {
   "cell_type": "code",
   "execution_count": 39,
   "metadata": {},
   "outputs": [
    {
     "data": {
      "text/plain": [
       "0    27\n",
       "1     8\n",
       "Name: churn, dtype: int64"
      ]
     },
     "execution_count": 39,
     "metadata": {},
     "output_type": "execute_result"
    }
   ],
   "source": [
    "dataset[dataset.waiting_4_loan==1].churn.value_counts()"
   ]
  },
  {
   "cell_type": "code",
   "execution_count": 40,
   "metadata": {},
   "outputs": [
    {
     "data": {
      "text/plain": [
       "<matplotlib.axes._subplots.AxesSubplot at 0x1ff50c230c8>"
      ]
     },
     "execution_count": 40,
     "metadata": {},
     "output_type": "execute_result"
    },
    {
     "data": {
      "image/png": "[encoded data removed]",
      "text/plain": [
       "<Figure size 1440x720 with 1 Axes>"
      ]
     },
     "metadata": {},
     "output_type": "display_data"
    }
   ],
   "source": [
    "dataset.drop(columns=['churn','user','housing',\n",
    "                      'payment_type','zodiac_sign']).corrwith(dataset.churn).plot.bar(\n",
    "figsize=(20,10),title='correlation with response',fontsize=15,rot=45,grid=True)"
   ]
  },
  {
   "cell_type": "code",
   "execution_count": 41,
   "metadata": {},
   "outputs": [],
   "source": [
    "sns.set(style='white')"
   ]
  },
  {
   "cell_type": "code",
   "execution_count": 42,
   "metadata": {},
   "outputs": [],
   "source": [
    "corr=dataset.drop(columns=['user','churn']).corr()"
   ]
  },
  {
   "cell_type": "code",
   "execution_count": 43,
   "metadata": {},
   "outputs": [],
   "source": [
    "mask=np.zeros_like(corr,dtype=np.bool)\n",
    "mask[np.triu_indices_from(mask)]=True"
   ]
  },
  {
   "cell_type": "code",
   "execution_count": 46,
   "metadata": {},
   "outputs": [
    {
     "data": {
      "text/plain": [
       "<matplotlib.axes._subplots.AxesSubplot at 0x1ff5015a588>"
      ]
     },
     "execution_count": 46,
     "metadata": {},
     "output_type": "execute_result"
    },
    {
     "data": {
      "image/png": "[encoded data removed]",
      "text/plain": [
       "<Figure size 1296x1080 with 2 Axes>"
      ]
     },
     "metadata": {},
     "output_type": "display_data"
    }
   ],
   "source": [
    "f,ax=plt.subplots(figsize=(18,15))\n",
    "cmap=sns.diverging_palette(220,10,as_cmap=True)\n",
    "sns.heatmap(corr,mask=mask,cmap=cmap,vmax=.3,square=True,linewidth=.5,cbar_kws={\"shrink\":.5})"
   ]
  },
  {
   "cell_type": "code",
   "execution_count": null,
   "metadata": {},
   "outputs": [],
   "source": []
  },
  {
   "cell_type": "code",
   "execution_count": null,
   "metadata": {},
   "outputs": [],
   "source": []
  },
  {
   "cell_type": "code",
   "execution_count": null,
   "metadata": {},
   "outputs": [],
   "source": []
  },
  {
   "cell_type": "code",
   "execution_count": null,
   "metadata": {},
   "outputs": [],
   "source": []
  },
  {
   "cell_type": "code",
   "execution_count": null,
   "metadata": {},
   "outputs": [],
   "source": []
  },
  {
   "cell_type": "code",
   "execution_count": null,
   "metadata": {},
   "outputs": [],
   "source": []
  },
  {
   "cell_type": "code",
   "execution_count": 47,
   "metadata": {
    "colab": {
     "base_uri": "https://localhost:8080/",
     "height": 300
    },
    "colab_type": "code",
    "id": "238Mni-59rC0",
    "outputId": "596f437f-7a14-4748-9add-3ac69577a7af"
   },
   "outputs": [
    {
     "data": {
      "text/plain": [
       "<matplotlib.axes._subplots.AxesSubplot at 0x1ff5018e408>"
      ]
     },
     "execution_count": 47,
     "metadata": {},
     "output_type": "execute_result"
    },
    {
     "data": {
      "image/png": "[encoded data removed]",
      "text/plain": [
       "<Figure size 432x288 with 1 Axes>"
      ]
     },
     "metadata": {},
     "output_type": "display_data"
    }
   ],
   "source": [
    "sns.distplot(d2['age'], kde=False, rug=True)"
   ]
  },
  {
   "cell_type": "markdown",
   "metadata": {
    "colab_type": "text",
    "id": "AlbDCGLKX--I"
   },
   "source": [
    "Same pairplot will take insane amount of time in google colab"
   ]
  },
  {
   "cell_type": "code",
   "execution_count": null,
   "metadata": {
    "colab": {},
    "colab_type": "code",
    "id": "rtht7P7JTw-2"
   },
   "outputs": [],
   "source": [
    "sns.pairplot(d2)"
   ]
  },
  {
   "cell_type": "code",
   "execution_count": null,
   "metadata": {
    "colab": {
     "base_uri": "https://localhost:8080/",
     "height": 68
    },
    "colab_type": "code",
    "id": "tJEbjxkWXQr4",
    "outputId": "d17aa0fa-d720-4d3c-cd9c-d8f54c56a54a"
   },
   "outputs": [],
   "source": [
    "dataset[d2.waiting_4_loan==1].churn.value_counts()"
   ]
  },
  {
   "cell_type": "code",
   "execution_count": null,
   "metadata": {
    "colab": {
     "base_uri": "https://localhost:8080/",
     "height": 68
    },
    "colab_type": "code",
    "id": "PFcMpc7fdUiY",
    "outputId": "a27ddc25-bd47-4988-da6b-fef95e5fcc0f"
   },
   "outputs": [],
   "source": [
    "dataset[d2.cancelled_loan==1].churn.value_counts()"
   ]
  },
  {
   "cell_type": "code",
   "execution_count": null,
   "metadata": {
    "colab": {
     "base_uri": "https://localhost:8080/",
     "height": 68
    },
    "colab_type": "code",
    "id": "G4ADTCrjd-M1",
    "outputId": "e7c83f11-f1ef-44aa-e6b6-f994e0301e74"
   },
   "outputs": [],
   "source": [
    "dataset[d2.received_loan==1].churn.value_counts()"
   ]
  },
  {
   "cell_type": "code",
   "execution_count": null,
   "metadata": {
    "colab": {
     "base_uri": "https://localhost:8080/",
     "height": 68
    },
    "colab_type": "code",
    "id": "eEqAMdRheJY1",
    "outputId": "5c360be2-83bc-4794-dc3d-b02d3bc3bdbf"
   },
   "outputs": [],
   "source": [
    "dataset[d2.rejected_loan==1].churn.value_counts()"
   ]
  },
  {
   "cell_type": "code",
   "execution_count": null,
   "metadata": {
    "colab": {
     "base_uri": "https://localhost:8080/",
     "height": 1000
    },
    "colab_type": "code",
    "id": "23NBodpaeX01",
    "outputId": "20d4e6b1-505c-48c4-c5fe-f7fe92daabea"
   },
   "outputs": [],
   "source": [
    "plt.figure(figsize =(30,30))\n",
    "sns.heatmap(d2.corr(),annot=True,cmap='coolwarm')"
   ]
  },
  {
   "cell_type": "code",
   "execution_count": null,
   "metadata": {
    "colab": {},
    "colab_type": "code",
    "id": "zKliXK3_gLr1"
   },
   "outputs": [],
   "source": [
    "dataset=dataset.drop(columns=['app_web_user'])"
   ]
  },
  {
   "cell_type": "code",
   "execution_count": null,
   "metadata": {
    "colab": {},
    "colab_type": "code",
    "id": "FDxKhMCYk7ml"
   },
   "outputs": [],
   "source": [
    "dataset.to_csv('new',index=False)"
   ]
  },
  {
   "cell_type": "code",
   "execution_count": null,
   "metadata": {
    "colab": {},
    "colab_type": "code",
    "id": "yAVrpH0YlRN-"
   },
   "outputs": [],
   "source": [
    "id=dataset['user']\n",
    "dataset=dataset.drop(columns=['user'])"
   ]
  },
  {
   "cell_type": "code",
   "execution_count": null,
   "metadata": {
    "colab": {
     "base_uri": "https://localhost:8080/",
     "height": 255
    },
    "colab_type": "code",
    "id": "5meMNPM3oFWW",
    "outputId": "552aab66-2a89-49fc-ee64-c4031fb6a838"
   },
   "outputs": [],
   "source": [
    "dataset=pd.get_dummies(dataset)\n",
    "dataset.columns"
   ]
  },
  {
   "cell_type": "code",
   "execution_count": null,
   "metadata": {
    "colab": {},
    "colab_type": "code",
    "id": "bGxt3erwua3K"
   },
   "outputs": [],
   "source": [
    "dataset=dataset.drop(columns=['housing_na','zodiac_sign_na','payment_type_na'])"
   ]
  },
  {
   "cell_type": "code",
   "execution_count": null,
   "metadata": {
    "colab": {
     "base_uri": "https://localhost:8080/",
     "height": 241
    },
    "colab_type": "code",
    "id": "83Gr8bUavMd4",
    "outputId": "a57939d1-7676-483e-875b-cbc666d994cf"
   },
   "outputs": [],
   "source": [
    "dataset.head()"
   ]
  },
  {
   "cell_type": "code",
   "execution_count": null,
   "metadata": {
    "colab": {},
    "colab_type": "code",
    "id": "XTIDeq77P6Jg"
   },
   "outputs": [],
   "source": [
    "from sklearn.model_selection import train_test_split"
   ]
  },
  {
   "cell_type": "code",
   "execution_count": null,
   "metadata": {
    "colab": {
     "base_uri": "https://localhost:8080/",
     "height": 34
    },
    "colab_type": "code",
    "id": "ebqgYcbXX93Z",
    "outputId": "dcfb373b-6021-48eb-c42f-8b0419e6bef7"
   },
   "outputs": [],
   "source": [
    "dataset['churn'].shape"
   ]
  },
  {
   "cell_type": "code",
   "execution_count": null,
   "metadata": {
    "colab": {
     "base_uri": "https://localhost:8080/",
     "height": 34
    },
    "colab_type": "code",
    "id": "SH4GIIj1X9-c",
    "outputId": "1e3d2f43-feb9-4eb2-e935-ebacd5bff19c"
   },
   "outputs": [],
   "source": [
    "dataset.shape"
   ]
  },
  {
   "cell_type": "code",
   "execution_count": null,
   "metadata": {
    "colab": {},
    "colab_type": "code",
    "id": "fpS01uEHQFyd"
   },
   "outputs": [],
   "source": [
    "x_train,x_test,y_train,y_test = train_test_split(dataset.drop(columns=['churn']),dataset['churn'],test_size=0.3,random_state=0,stratify=dataset['churn'])"
   ]
  },
  {
   "cell_type": "code",
   "execution_count": null,
   "metadata": {
    "colab": {
     "base_uri": "https://localhost:8080/",
     "height": 34
    },
    "colab_type": "code",
    "id": "VISe0ByCQ9nw",
    "outputId": "5c38be06-8b2e-43a6-833d-a455a9003057"
   },
   "outputs": [],
   "source": [
    "x_test.shape"
   ]
  },
  {
   "cell_type": "code",
   "execution_count": null,
   "metadata": {
    "colab": {
     "base_uri": "https://localhost:8080/",
     "height": 34
    },
    "colab_type": "code",
    "id": "UbVM5RYnREJt",
    "outputId": "09af2cc3-cbf8-4cd4-88c1-b33b4eecdd2e"
   },
   "outputs": [],
   "source": [
    "x_train.shape"
   ]
  },
  {
   "cell_type": "code",
   "execution_count": null,
   "metadata": {
    "colab": {
     "base_uri": "https://localhost:8080/",
     "height": 34
    },
    "colab_type": "code",
    "id": "5nvkLoDsXx8l",
    "outputId": "dd9a3cdc-932d-483f-e54a-d7d3e0e90a82"
   },
   "outputs": [],
   "source": [
    "y_train.shape"
   ]
  },
  {
   "cell_type": "code",
   "execution_count": null,
   "metadata": {
    "colab": {
     "base_uri": "https://localhost:8080/",
     "height": 34
    },
    "colab_type": "code",
    "id": "xTgkkSOEYPrE",
    "outputId": "6de411b7-78e8-4ed7-8256-6a6bb1a6301e"
   },
   "outputs": [],
   "source": [
    "y_test.shape"
   ]
  },
  {
   "cell_type": "code",
   "execution_count": null,
   "metadata": {
    "colab": {
     "base_uri": "https://localhost:8080/",
     "height": 68
    },
    "colab_type": "code",
    "id": "7Tw2H-E1RI4t",
    "outputId": "2a21d9a3-cf6e-4ece-84f6-e4ec04bc20c5"
   },
   "outputs": [],
   "source": [
    "y_train.value_counts()"
   ]
  },
  {
   "cell_type": "code",
   "execution_count": null,
   "metadata": {
    "colab": {
     "base_uri": "https://localhost:8080/",
     "height": 283
    },
    "colab_type": "code",
    "id": "T9q6YT0ckOFn",
    "outputId": "1a434c96-12ef-4062-8334-8183b8384379"
   },
   "outputs": [],
   "source": [
    "sns.distplot(y_train, bins=20, kde=False, rug=True);"
   ]
  },
  {
   "cell_type": "markdown",
   "metadata": {
    "colab_type": "text",
    "id": "y538yso6kXtC"
   },
   "source": [
    "some might conside as enough balanced and some might consider balanced\n",
    "better to not resmaple becoz of its size effect\n"
   ]
  },
  {
   "cell_type": "markdown",
   "metadata": {
    "colab_type": "text",
    "id": "vFayLE94nmOr"
   },
   "source": [
    "if u want to balance it\n"
   ]
  },
  {
   "cell_type": "code",
   "execution_count": null,
   "metadata": {
    "colab": {},
    "colab_type": "code",
    "id": "vr95OLC0kM7z"
   },
   "outputs": [],
   "source": [
    "pos=y_train[y_train.values==1]\n",
    "neg=y_train[y_train.values==0]"
   ]
  },
  {
   "cell_type": "code",
   "execution_count": null,
   "metadata": {
    "colab": {},
    "colab_type": "code",
    "id": "56N0NAxMlQ-o"
   },
   "outputs": [],
   "source": [
    "pos"
   ]
  },
  {
   "cell_type": "code",
   "execution_count": null,
   "metadata": {
    "colab": {},
    "colab_type": "code",
    "id": "z8sIr1JplRvA"
   },
   "outputs": [],
   "source": [
    "if len(pos)>len(neg):\n",
    "  high = pos\n",
    "  low = neg\n",
    "else:\n",
    "  high=neg\n",
    "  low=pos"
   ]
  },
  {
   "cell_type": "code",
   "execution_count": null,
   "metadata": {
    "colab": {
     "base_uri": "https://localhost:8080/",
     "height": 51
    },
    "colab_type": "code",
    "id": "6YkwW9yWlmBw",
    "outputId": "dd0b50e6-f497-4f59-d1de-51fc620dbd46"
   },
   "outputs": [],
   "source": [
    "low.value_counts()\n"
   ]
  },
  {
   "cell_type": "code",
   "execution_count": null,
   "metadata": {
    "colab": {},
    "colab_type": "code",
    "id": "dcAlLNqRsORX"
   },
   "outputs": [],
   "source": [
    "from sklearn.utils import resample"
   ]
  },
  {
   "cell_type": "markdown",
   "metadata": {
    "colab_type": "text",
    "id": "0Gs2q4Ulp-YR"
   },
   "source": [
    "better to use downsample .... if u think it is imbalance"
   ]
  },
  {
   "cell_type": "code",
   "execution_count": null,
   "metadata": {
    "colab": {},
    "colab_type": "code",
    "id": "Rbq9eVwploAg"
   },
   "outputs": [],
   "source": [
    "#df_resample = resample(high, replace=False,    # sample without replacement\n",
    " #                                n_samples=7814,     # to match minority class\n",
    "  #                               random_state=123\n",
    " #or\n",
    "\"\"\"import random\n",
    "random.seed(0)\n",
    "high=np.random.choice(high,size=len(low))\n",
    "low=np.asarray(low)\n",
    "\n",
    "new=pd.concat([low,high])\n",
    "x_train=x_train.loc[new,]\n",
    "y_train=y_train[new]\"\"\"\n",
    "\n",
    "\n",
    "\n"
   ]
  },
  {
   "cell_type": "code",
   "execution_count": null,
   "metadata": {
    "colab": {
     "base_uri": "https://localhost:8080/",
     "height": 51
    },
    "colab_type": "code",
    "id": "CAJSW_SCrXjY",
    "outputId": "0bd1cc37-6a34-43a0-cf02-f287232a1acd"
   },
   "outputs": [],
   "source": [
    "high.value_counts()"
   ]
  },
  {
   "cell_type": "code",
   "execution_count": null,
   "metadata": {
    "colab": {
     "base_uri": "https://localhost:8080/",
     "height": 51
    },
    "colab_type": "code",
    "id": "lzwLkrqyqgXj",
    "outputId": "9259d671-4596-4f81-dc4d-1f58004c2cb6"
   },
   "outputs": [],
   "source": [
    "df_resample.value_counts()"
   ]
  },
  {
   "cell_type": "code",
   "execution_count": null,
   "metadata": {
    "colab": {},
    "colab_type": "code",
    "id": "3dTtq1WUrFaw"
   },
   "outputs": [],
   "source": [
    "new = pd.concat([df_resample, low])"
   ]
  },
  {
   "cell_type": "code",
   "execution_count": null,
   "metadata": {
    "colab": {
     "base_uri": "https://localhost:8080/",
     "height": 68
    },
    "colab_type": "code",
    "id": "BAjYXu9isDAB",
    "outputId": "d698afcf-3fb0-401e-8410-324cb1bfb85f"
   },
   "outputs": [],
   "source": [
    "new.value_counts()"
   ]
  },
  {
   "cell_type": "code",
   "execution_count": null,
   "metadata": {
    "colab": {},
    "colab_type": "code",
    "id": "Jfl8wI1nsIvR"
   },
   "outputs": [],
   "source": [
    "#x_train=x_train.loc[new,]\n",
    "y_train=new"
   ]
  },
  {
   "cell_type": "code",
   "execution_count": null,
   "metadata": {
    "colab": {
     "base_uri": "https://localhost:8080/",
     "height": 68
    },
    "colab_type": "code",
    "id": "-VQyjSl3s0Ex",
    "outputId": "38c0bc7a-0b54-40fe-b671-2b30f010f621"
   },
   "outputs": [],
   "source": [
    "y_train.value_counts()"
   ]
  },
  {
   "cell_type": "code",
   "execution_count": null,
   "metadata": {
    "colab": {
     "base_uri": "https://localhost:8080/",
     "height": 34
    },
    "colab_type": "code",
    "id": "1G6IZ2QTXkul",
    "outputId": "52c41cae-6701-40e4-8d8b-032249bde1e9"
   },
   "outputs": [],
   "source": [
    "y_train.shape"
   ]
  },
  {
   "cell_type": "code",
   "execution_count": null,
   "metadata": {
    "colab": {
     "base_uri": "https://localhost:8080/",
     "height": 241
    },
    "colab_type": "code",
    "id": "c7lVos5saqSk",
    "outputId": "978f9af0-4072-429e-c7ff-9cebb2419981"
   },
   "outputs": [],
   "source": [
    "x_train.head()"
   ]
  },
  {
   "cell_type": "code",
   "execution_count": null,
   "metadata": {
    "colab": {},
    "colab_type": "code",
    "id": "n1zdkWlGtEDS"
   },
   "outputs": [],
   "source": [
    "from sklearn.preprocessing import StandardScaler"
   ]
  },
  {
   "cell_type": "code",
   "execution_count": null,
   "metadata": {
    "colab": {},
    "colab_type": "code",
    "id": "qp5j09kkv3TF"
   },
   "outputs": [],
   "source": [
    "sc_x = StandardScaler()\n",
    "xtrain = pd.DataFrame(sc_x.fit_transform(x_train))\n",
    "xtest=pd.DataFrame(sc_x.fit_transform(x_test))"
   ]
  },
  {
   "cell_type": "code",
   "execution_count": null,
   "metadata": {
    "colab": {},
    "colab_type": "code",
    "id": "NDTEp0mgwjoS"
   },
   "outputs": [],
   "source": [
    "xtrain.columns = x_train.columns.values"
   ]
  },
  {
   "cell_type": "code",
   "execution_count": null,
   "metadata": {
    "colab": {
     "base_uri": "https://localhost:8080/",
     "height": 241
    },
    "colab_type": "code",
    "id": "HeSx0dBdwl_B",
    "outputId": "5b566e26-1786-4fe9-cacb-eae16dc1da8e"
   },
   "outputs": [],
   "source": [
    "xtrain.head()"
   ]
  },
  {
   "cell_type": "code",
   "execution_count": null,
   "metadata": {
    "colab": {},
    "colab_type": "code",
    "id": "uiGgJ4wjxHpy"
   },
   "outputs": [],
   "source": [
    "xtest.columns = x_test.columns.values"
   ]
  },
  {
   "cell_type": "code",
   "execution_count": null,
   "metadata": {
    "colab": {
     "base_uri": "https://localhost:8080/",
     "height": 241
    },
    "colab_type": "code",
    "id": "Xkj9_qr5zEjT",
    "outputId": "df6299ca-ae24-493f-e680-b21f9a93cc8c"
   },
   "outputs": [],
   "source": [
    "xtest.head()"
   ]
  },
  {
   "cell_type": "code",
   "execution_count": null,
   "metadata": {
    "colab": {},
    "colab_type": "code",
    "id": "fV5rGeiPzHpS"
   },
   "outputs": [],
   "source": [
    "xtrain.index = x_train.index.values\n",
    "xtest.index = x_test.index.values"
   ]
  },
  {
   "cell_type": "code",
   "execution_count": null,
   "metadata": {
    "colab": {
     "base_uri": "https://localhost:8080/",
     "height": 1000
    },
    "colab_type": "code",
    "id": "4DJlYGypzeS0",
    "outputId": "0e57e034-44f5-404d-e3a9-6071dca9f6e7"
   },
   "outputs": [],
   "source": [
    "xtrain.corrwith(y_train).plot.bar(figsize=(30,30),title='correlation',fontsize=15,rot=45,grid=True)"
   ]
  },
  {
   "cell_type": "code",
   "execution_count": null,
   "metadata": {
    "colab": {},
    "colab_type": "code",
    "id": "mQIs8G72RwyY"
   },
   "outputs": [],
   "source": [
    "from sklearn.feature_selection import RFE\n",
    "from sklearn.linear_model import LogisticRegression"
   ]
  },
  {
   "cell_type": "code",
   "execution_count": null,
   "metadata": {
    "colab": {},
    "colab_type": "code",
    "id": "PdS936XeWLi5"
   },
   "outputs": [],
   "source": [
    "model = LogisticRegression(class_weight=\"balanced\")"
   ]
  },
  {
   "cell_type": "code",
   "execution_count": null,
   "metadata": {
    "colab": {},
    "colab_type": "code",
    "id": "Z6qYGF7EWoXX"
   },
   "outputs": [],
   "source": [
    "rfe=RFE(model,20)\n"
   ]
  },
  {
   "cell_type": "code",
   "execution_count": null,
   "metadata": {
    "colab": {
     "base_uri": "https://localhost:8080/",
     "height": 785
    },
    "colab_type": "code",
    "id": "_IsPxIW3W1s4",
    "outputId": "85366b59-d505-434c-9f79-18ca211141f6"
   },
   "outputs": [],
   "source": [
    "rfe = rfe.fit(xtrain,y_train)"
   ]
  },
  {
   "cell_type": "code",
   "execution_count": null,
   "metadata": {
    "colab": {},
    "colab_type": "code",
    "id": "nI6_F8oJXPL2"
   },
   "outputs": [],
   "source": [
    "y=rfe.predict(xtest)"
   ]
  },
  {
   "cell_type": "code",
   "execution_count": null,
   "metadata": {
    "colab": {
     "base_uri": "https://localhost:8080/",
     "height": 136
    },
    "colab_type": "code",
    "id": "R1dmk4bsMkj-",
    "outputId": "83eb3807-8a5d-4e83-f6b4-b54c2a8c6660"
   },
   "outputs": [],
   "source": [
    "xtrain.columns[rfe.support_]"
   ]
  },
  {
   "cell_type": "code",
   "execution_count": null,
   "metadata": {
    "colab": {},
    "colab_type": "code",
    "id": "yysvLCrWXWZ2"
   },
   "outputs": [],
   "source": [
    "from sklearn.metrics import classification_report,confusion_matrix,accuracy_score\n",
    "cm=confusion_matrix(y_test,y)"
   ]
  },
  {
   "cell_type": "code",
   "execution_count": null,
   "metadata": {
    "colab": {
     "base_uri": "https://localhost:8080/",
     "height": 51
    },
    "colab_type": "code",
    "id": "VVGmG7q5XZY4",
    "outputId": "83b687bd-6bf1-4535-de47-6b639e88d4d7"
   },
   "outputs": [],
   "source": [
    "cm"
   ]
  },
  {
   "cell_type": "code",
   "execution_count": null,
   "metadata": {
    "colab": {
     "base_uri": "https://localhost:8080/",
     "height": 170
    },
    "colab_type": "code",
    "id": "L1vJ5LGkrfoL",
    "outputId": "f208a92e-a96e-4ea6-95d1-f41a6c03aec0"
   },
   "outputs": [],
   "source": [
    "print(classification_report(y_test,y))"
   ]
  },
  {
   "cell_type": "code",
   "execution_count": null,
   "metadata": {
    "colab": {
     "base_uri": "https://localhost:8080/",
     "height": 34
    },
    "colab_type": "code",
    "id": "9sOuMTl0rmMp",
    "outputId": "258f72af-b5bf-4fb8-80d6-aa34962a6e96"
   },
   "outputs": [],
   "source": [
    "accuracy_score(y_test,y)"
   ]
  },
  {
   "cell_type": "markdown",
   "metadata": {
    "colab_type": "text",
    "id": "-1Ru17xYUuKO"
   },
   "source": [
    "time to improve it"
   ]
  },
  {
   "cell_type": "code",
   "execution_count": null,
   "metadata": {
    "colab": {},
    "colab_type": "code",
    "id": "Ext85WOzsCja"
   },
   "outputs": [],
   "source": [
    "from sklearn.ensemble import RandomForestClassifier"
   ]
  },
  {
   "cell_type": "code",
   "execution_count": null,
   "metadata": {
    "colab": {},
    "colab_type": "code",
    "id": "vEmFHFbHsf7q"
   },
   "outputs": [],
   "source": [
    "from sklearn.svm import SVC"
   ]
  },
  {
   "cell_type": "code",
   "execution_count": null,
   "metadata": {
    "colab": {},
    "colab_type": "code",
    "id": "p1BtgTMctH56"
   },
   "outputs": [],
   "source": [
    "model=SVC()"
   ]
  },
  {
   "cell_type": "code",
   "execution_count": null,
   "metadata": {
    "colab": {},
    "colab_type": "code",
    "id": "FMFe47zWtLbK"
   },
   "outputs": [],
   "source": [
    "param_grid = {'C': [0.1,1,5,10,15,18,20,25],'gamma':[0.1,1,0.01,0.2,0.02,0.5,0.3,0.03],'kernel':['rbf']}"
   ]
  },
  {
   "cell_type": "code",
   "execution_count": null,
   "metadata": {
    "colab": {},
    "colab_type": "code",
    "id": "_kN2-QAltPWa"
   },
   "outputs": [],
   "source": [
    "from sklearn.model_selection import GridSearchCV"
   ]
  },
  {
   "cell_type": "code",
   "execution_count": null,
   "metadata": {
    "colab": {},
    "colab_type": "code",
    "id": "iJljMQtEtRw6"
   },
   "outputs": [],
   "source": [
    "grid = GridSearchCV(model,param_grid,refit=True,verbose=4)"
   ]
  },
  {
   "cell_type": "code",
   "execution_count": null,
   "metadata": {
    "colab": {
     "base_uri": "https://localhost:8080/",
     "height": 1000
    },
    "colab_type": "code",
    "id": "aLC95KbwtT7a",
    "outputId": "af053c25-a498-47d8-adb8-13ca9f4208ee"
   },
   "outputs": [],
   "source": [
    "grid.fit(xtrain,y_train)"
   ]
  },
  {
   "cell_type": "code",
   "execution_count": null,
   "metadata": {
    "colab": {
     "base_uri": "https://localhost:8080/",
     "height": 34
    },
    "colab_type": "code",
    "id": "UbJt0qrktWMK",
    "outputId": "e62f2c87-8288-4273-a429-3be5a84b08af"
   },
   "outputs": [],
   "source": [
    "grid.best_params_"
   ]
  },
  {
   "cell_type": "code",
   "execution_count": null,
   "metadata": {
    "colab": {},
    "colab_type": "code",
    "id": "75xNYI73K2pS"
   },
   "outputs": [],
   "source": [
    "pred=grid.predict(xtest)"
   ]
  },
  {
   "cell_type": "code",
   "execution_count": null,
   "metadata": {
    "colab": {
     "base_uri": "https://localhost:8080/",
     "height": 34
    },
    "colab_type": "code",
    "id": "W2xxsJW3SSKH",
    "outputId": "907c461d-effc-46e2-9672-950b54e410a1"
   },
   "outputs": [],
   "source": [
    "pred"
   ]
  },
  {
   "cell_type": "code",
   "execution_count": null,
   "metadata": {
    "colab": {},
    "colab_type": "code",
    "id": "fd_47JonK-af"
   },
   "outputs": [],
   "source": [
    "cm=confusion_matrix(y_test,y)"
   ]
  },
  {
   "cell_type": "code",
   "execution_count": null,
   "metadata": {
    "colab": {
     "base_uri": "https://localhost:8080/",
     "height": 51
    },
    "colab_type": "code",
    "id": "HFAJx3tULN5P",
    "outputId": "9c9cc843-31d7-4f67-b3bb-2c19458dbe73"
   },
   "outputs": [],
   "source": [
    "cm"
   ]
  },
  {
   "cell_type": "code",
   "execution_count": null,
   "metadata": {
    "colab": {
     "base_uri": "https://localhost:8080/",
     "height": 34
    },
    "colab_type": "code",
    "id": "NjAGFq8yLOrP",
    "outputId": "644b9927-d71a-4aea-c417-043af792e6fa"
   },
   "outputs": [],
   "source": [
    "accuracy_score(y_test,pred)"
   ]
  },
  {
   "cell_type": "code",
   "execution_count": null,
   "metadata": {
    "colab": {
     "base_uri": "https://localhost:8080/",
     "height": 170
    },
    "colab_type": "code",
    "id": "wDTL8mmjLacv",
    "outputId": "8afd53d2-2c86-43ba-ff21-d0d7a4ac0b33"
   },
   "outputs": [],
   "source": [
    "print(classification_report(y_test,pred))"
   ]
  },
  {
   "cell_type": "markdown",
   "metadata": {
    "colab_type": "text",
    "id": "6Z-GfkuhLpf6"
   },
   "source": [
    "better result"
   ]
  },
  {
   "cell_type": "code",
   "execution_count": null,
   "metadata": {
    "colab": {},
    "colab_type": "code",
    "id": "jWcTQlqaLoLy"
   },
   "outputs": [],
   "source": [
    "result=SVC(C=15, gamma=0.01, kernel='rbf')"
   ]
  },
  {
   "cell_type": "code",
   "execution_count": null,
   "metadata": {
    "colab": {
     "base_uri": "https://localhost:8080/",
     "height": 85
    },
    "colab_type": "code",
    "id": "-TmItFFROOg1",
    "outputId": "236b1c63-d538-4288-fec2-13a08786b6cb"
   },
   "outputs": [],
   "source": [
    "result.fit(xtrain[xtrain.columns[rfe.support_]],y_train)"
   ]
  },
  {
   "cell_type": "code",
   "execution_count": null,
   "metadata": {
    "colab": {},
    "colab_type": "code",
    "id": "iRsHiiQmOxOg"
   },
   "outputs": [],
   "source": [
    "cm=confusion_matrix(xtest[xtest.columns[rfe.support_]],y_test)\n"
   ]
  },
  {
   "cell_type": "code",
   "execution_count": null,
   "metadata": {
    "colab": {
     "base_uri": "https://localhost:8080/",
     "height": 34
    },
    "colab_type": "code",
    "id": "7a9EL2ZNPDW3",
    "outputId": "0973a570-e5c7-4953-e45e-81eafbee15c9"
   },
   "outputs": [],
   "source": [
    "accuracy_score(y_test,result.predict(xtest[xtrain.columns[rfe.support_]]))"
   ]
  },
  {
   "cell_type": "markdown",
   "metadata": {
    "colab_type": "text",
    "id": "DwQPxIDZUKUF"
   },
   "source": [
    "more better now"
   ]
  }
 ],
 "metadata": {
  "accelerator": "GPU",
  "colab": {
   "include_colab_link": true,
   "name": "Minimizing Churn Rate Through Analysis of Financial Habits.ipynb",
   "provenance": [],
   "version": "0.3.2"
  },
  "kernelspec": {
   "display_name": "Python 3",
   "language": "python",
   "name": "python3"
  },
  "language_info": {
   "codemirror_mode": {
    "name": "ipython",
    "version": 3
   },
   "file_extension": ".py",
   "mimetype": "text/x-python",
   "name": "python",
   "nbconvert_exporter": "python",
   "pygments_lexer": "ipython3",
   "version": "3.7.6"
  }
 },
 "nbformat": 4,
 "nbformat_minor": 1
}
