{
 "cells": [
  {
   "cell_type": "code",
   "execution_count": 1,
   "metadata": {},
   "outputs": [],
   "source": [
    "import pandas as pd\n",
    "import numpy as np\n",
    "import random\n",
    "import seaborn as sns\n",
    "import matplotlib.pyplot as plt\n"
   ]
  },
  {
   "cell_type": "code",
   "execution_count": 2,
   "metadata": {},
   "outputs": [
    {
     "data": {
      "text/html": [
       "<div>\n",
       "<style scoped>\n",
       "    .dataframe tbody tr th:only-of-type {\n",
       "        vertical-align: middle;\n",
       "    }\n",
       "\n",
       "    .dataframe tbody tr th {\n",
       "        vertical-align: top;\n",
       "    }\n",
       "\n",
       "    .dataframe thead th {\n",
       "        text-align: right;\n",
       "    }\n",
       "</style>\n",
       "<table border=\"1\" class=\"dataframe\">\n",
       "  <thead>\n",
       "    <tr style=\"text-align: right;\">\n",
       "      <th></th>\n",
       "      <th>user</th>\n",
       "      <th>churn</th>\n",
       "      <th>age</th>\n",
       "      <th>housing</th>\n",
       "      <th>deposits</th>\n",
       "      <th>withdrawal</th>\n",
       "      <th>purchases_partners</th>\n",
       "      <th>purchases</th>\n",
       "      <th>cc_taken</th>\n",
       "      <th>cc_recommended</th>\n",
       "      <th>...</th>\n",
       "      <th>payment_type</th>\n",
       "      <th>waiting_4_loan</th>\n",
       "      <th>cancelled_loan</th>\n",
       "      <th>received_loan</th>\n",
       "      <th>rejected_loan</th>\n",
       "      <th>zodiac_sign</th>\n",
       "      <th>left_for_two_month_plus</th>\n",
       "      <th>left_for_one_month</th>\n",
       "      <th>reward_rate</th>\n",
       "      <th>is_referred</th>\n",
       "    </tr>\n",
       "  </thead>\n",
       "  <tbody>\n",
       "    <tr>\n",
       "      <th>0</th>\n",
       "      <td>55409</td>\n",
       "      <td>0</td>\n",
       "      <td>37.0</td>\n",
       "      <td>na</td>\n",
       "      <td>0</td>\n",
       "      <td>0</td>\n",
       "      <td>0</td>\n",
       "      <td>0</td>\n",
       "      <td>0</td>\n",
       "      <td>0</td>\n",
       "      <td>...</td>\n",
       "      <td>Bi-Weekly</td>\n",
       "      <td>0</td>\n",
       "      <td>0</td>\n",
       "      <td>0</td>\n",
       "      <td>0</td>\n",
       "      <td>Leo</td>\n",
       "      <td>1</td>\n",
       "      <td>0</td>\n",
       "      <td>0.00</td>\n",
       "      <td>0</td>\n",
       "    </tr>\n",
       "    <tr>\n",
       "      <th>1</th>\n",
       "      <td>23547</td>\n",
       "      <td>0</td>\n",
       "      <td>28.0</td>\n",
       "      <td>R</td>\n",
       "      <td>0</td>\n",
       "      <td>0</td>\n",
       "      <td>1</td>\n",
       "      <td>0</td>\n",
       "      <td>0</td>\n",
       "      <td>96</td>\n",
       "      <td>...</td>\n",
       "      <td>Weekly</td>\n",
       "      <td>0</td>\n",
       "      <td>0</td>\n",
       "      <td>0</td>\n",
       "      <td>0</td>\n",
       "      <td>Leo</td>\n",
       "      <td>0</td>\n",
       "      <td>0</td>\n",
       "      <td>1.47</td>\n",
       "      <td>1</td>\n",
       "    </tr>\n",
       "    <tr>\n",
       "      <th>2</th>\n",
       "      <td>58313</td>\n",
       "      <td>0</td>\n",
       "      <td>35.0</td>\n",
       "      <td>R</td>\n",
       "      <td>47</td>\n",
       "      <td>2</td>\n",
       "      <td>86</td>\n",
       "      <td>47</td>\n",
       "      <td>0</td>\n",
       "      <td>285</td>\n",
       "      <td>...</td>\n",
       "      <td>Semi-Monthly</td>\n",
       "      <td>0</td>\n",
       "      <td>0</td>\n",
       "      <td>0</td>\n",
       "      <td>0</td>\n",
       "      <td>Capricorn</td>\n",
       "      <td>1</td>\n",
       "      <td>0</td>\n",
       "      <td>2.17</td>\n",
       "      <td>0</td>\n",
       "    </tr>\n",
       "    <tr>\n",
       "      <th>3</th>\n",
       "      <td>8095</td>\n",
       "      <td>0</td>\n",
       "      <td>26.0</td>\n",
       "      <td>R</td>\n",
       "      <td>26</td>\n",
       "      <td>3</td>\n",
       "      <td>38</td>\n",
       "      <td>25</td>\n",
       "      <td>0</td>\n",
       "      <td>74</td>\n",
       "      <td>...</td>\n",
       "      <td>Bi-Weekly</td>\n",
       "      <td>0</td>\n",
       "      <td>0</td>\n",
       "      <td>0</td>\n",
       "      <td>0</td>\n",
       "      <td>Capricorn</td>\n",
       "      <td>0</td>\n",
       "      <td>0</td>\n",
       "      <td>1.10</td>\n",
       "      <td>1</td>\n",
       "    </tr>\n",
       "    <tr>\n",
       "      <th>4</th>\n",
       "      <td>61353</td>\n",
       "      <td>1</td>\n",
       "      <td>27.0</td>\n",
       "      <td>na</td>\n",
       "      <td>0</td>\n",
       "      <td>0</td>\n",
       "      <td>2</td>\n",
       "      <td>0</td>\n",
       "      <td>0</td>\n",
       "      <td>0</td>\n",
       "      <td>...</td>\n",
       "      <td>Bi-Weekly</td>\n",
       "      <td>0</td>\n",
       "      <td>0</td>\n",
       "      <td>0</td>\n",
       "      <td>0</td>\n",
       "      <td>Aries</td>\n",
       "      <td>1</td>\n",
       "      <td>0</td>\n",
       "      <td>0.03</td>\n",
       "      <td>0</td>\n",
       "    </tr>\n",
       "  </tbody>\n",
       "</table>\n",
       "<p>5 rows × 29 columns</p>\n",
       "</div>"
      ],
      "text/plain": [
       "    user  churn   age housing  deposits  withdrawal  purchases_partners  \\\n",
       "0  55409      0  37.0      na         0           0                   0   \n",
       "1  23547      0  28.0       R         0           0                   1   \n",
       "2  58313      0  35.0       R        47           2                  86   \n",
       "3   8095      0  26.0       R        26           3                  38   \n",
       "4  61353      1  27.0      na         0           0                   2   \n",
       "\n",
       "   purchases  cc_taken  cc_recommended  ...  payment_type  waiting_4_loan  \\\n",
       "0          0         0               0  ...     Bi-Weekly               0   \n",
       "1          0         0              96  ...        Weekly               0   \n",
       "2         47         0             285  ...  Semi-Monthly               0   \n",
       "3         25         0              74  ...     Bi-Weekly               0   \n",
       "4          0         0               0  ...     Bi-Weekly               0   \n",
       "\n",
       "   cancelled_loan  received_loan  rejected_loan  zodiac_sign  \\\n",
       "0               0              0              0          Leo   \n",
       "1               0              0              0          Leo   \n",
       "2               0              0              0    Capricorn   \n",
       "3               0              0              0    Capricorn   \n",
       "4               0              0              0        Aries   \n",
       "\n",
       "   left_for_two_month_plus  left_for_one_month  reward_rate is_referred  \n",
       "0                        1                   0         0.00           0  \n",
       "1                        0                   0         1.47           1  \n",
       "2                        1                   0         2.17           0  \n",
       "3                        0                   0         1.10           1  \n",
       "4                        1                   0         0.03           0  \n",
       "\n",
       "[5 rows x 29 columns]"
      ]
     },
     "execution_count": 2,
     "metadata": {},
     "output_type": "execute_result"
    }
   ],
   "source": [
    "dataset=pd.read_csv('new_churn.csv')\n",
    "dataset.head()"
   ]
  },
  {
   "cell_type": "code",
   "execution_count": 3,
   "metadata": {},
   "outputs": [
    {
     "data": {
      "text/plain": [
       "na    13856\n",
       "R     10969\n",
       "O      2171\n",
       "Name: housing, dtype: int64"
      ]
     },
     "execution_count": 3,
     "metadata": {},
     "output_type": "execute_result"
    }
   ],
   "source": [
    "ser=dataset['user']\n",
    "dataset=dataset.drop(columns=['user'])\n",
    "dataset.housing.value_counts()"
   ]
  },
  {
   "cell_type": "code",
   "execution_count": 4,
   "metadata": {},
   "outputs": [],
   "source": [
    "dataset=pd.get_dummies(dataset)"
   ]
  },
  {
   "cell_type": "code",
   "execution_count": 5,
   "metadata": {},
   "outputs": [
    {
     "data": {
      "text/plain": [
       "Index(['churn', 'age', 'deposits', 'withdrawal', 'purchases_partners',\n",
       "       'purchases', 'cc_taken', 'cc_recommended', 'cc_disliked', 'cc_liked',\n",
       "       'cc_application_begin', 'app_downloaded', 'web_user', 'app_web_user',\n",
       "       'ios_user', 'android_user', 'registered_phones', 'waiting_4_loan',\n",
       "       'cancelled_loan', 'received_loan', 'rejected_loan',\n",
       "       'left_for_two_month_plus', 'left_for_one_month', 'reward_rate',\n",
       "       'is_referred', 'housing_O', 'housing_R', 'housing_na',\n",
       "       'payment_type_Bi-Weekly', 'payment_type_Monthly',\n",
       "       'payment_type_Semi-Monthly', 'payment_type_Weekly', 'payment_type_na',\n",
       "       'zodiac_sign_Aquarius', 'zodiac_sign_Aries', 'zodiac_sign_Cancer',\n",
       "       'zodiac_sign_Capricorn', 'zodiac_sign_Gemini', 'zodiac_sign_Leo',\n",
       "       'zodiac_sign_Libra', 'zodiac_sign_Pisces', 'zodiac_sign_Sagittarius',\n",
       "       'zodiac_sign_Scorpio', 'zodiac_sign_Taurus', 'zodiac_sign_Virgo',\n",
       "       'zodiac_sign_na'],\n",
       "      dtype='object')"
      ]
     },
     "execution_count": 5,
     "metadata": {},
     "output_type": "execute_result"
    }
   ],
   "source": [
    "dataset.columns"
   ]
  },
  {
   "cell_type": "code",
   "execution_count": 6,
   "metadata": {},
   "outputs": [],
   "source": [
    "dataset=dataset.drop(columns=['housing_na','zodiac_sign_na','payment_type_na'])"
   ]
  },
  {
   "cell_type": "code",
   "execution_count": 8,
   "metadata": {},
   "outputs": [],
   "source": [
    "from sklearn.model_selection import train_test_split\n"
   ]
  },
  {
   "cell_type": "code",
   "execution_count": 9,
   "metadata": {},
   "outputs": [],
   "source": [
    "X_train,X_test,y_train,y_test=train_test_split(dataset.drop(columns='churn'),dataset['churn'],test_size=0.2,random_state=0)"
   ]
  },
  {
   "cell_type": "code",
   "execution_count": 10,
   "metadata": {},
   "outputs": [
    {
     "data": {
      "text/plain": [
       "0    12656\n",
       "1     8940\n",
       "Name: churn, dtype: int64"
      ]
     },
     "execution_count": 10,
     "metadata": {},
     "output_type": "execute_result"
    }
   ],
   "source": [
    "y_train.value_counts()"
   ]
  },
  {
   "cell_type": "code",
   "execution_count": 13,
   "metadata": {},
   "outputs": [],
   "source": [
    "positive=y_train[y_train.values==1].index\n",
    "negative=y_train[y_train.values==0].index\n",
    "if len(positive)>len(negative):\n",
    "    higher=positive\n",
    "    lower=negative\n",
    "else:\n",
    "    lower=positive\n",
    "    higher=negative\n",
    "random.seed(0)\n",
    "higher=np.random.choice(higher,size=len(lower))\n",
    "lower=np.asarray(lower)\n",
    "newindex=np.concatenate((lower,higher))"
   ]
  },
  {
   "cell_type": "code",
   "execution_count": 14,
   "metadata": {},
   "outputs": [],
   "source": [
    "X_train=X_train.loc[newindex,]\n",
    "y_train=y_train[newindex]\n"
   ]
  },
  {
   "cell_type": "code",
   "execution_count": 16,
   "metadata": {},
   "outputs": [],
   "source": [
    "from sklearn.preprocessing import StandardScaler\n",
    "sc=StandardScaler()\n",
    "X_train2=pd.DataFrame(sc.fit_transform(X_train))\n",
    "X_test2=pd.DataFrame(sc.fit_transform(X_test))\n",
    "X_train2.columns=X_train.columns.values\n",
    "X_test.columns=X_test.columns.values\n",
    "X_train2.index=X_train.index.values\n",
    "X_test.index=X_test.index.values\n",
    "X_train=X_train2\n",
    "X_test=X_test2"
   ]
  },
  {
   "cell_type": "code",
   "execution_count": 17,
   "metadata": {},
   "outputs": [
    {
     "data": {
      "text/html": [
       "<div>\n",
       "<style scoped>\n",
       "    .dataframe tbody tr th:only-of-type {\n",
       "        vertical-align: middle;\n",
       "    }\n",
       "\n",
       "    .dataframe tbody tr th {\n",
       "        vertical-align: top;\n",
       "    }\n",
       "\n",
       "    .dataframe thead th {\n",
       "        text-align: right;\n",
       "    }\n",
       "</style>\n",
       "<table border=\"1\" class=\"dataframe\">\n",
       "  <thead>\n",
       "    <tr style=\"text-align: right;\">\n",
       "      <th></th>\n",
       "      <th>age</th>\n",
       "      <th>deposits</th>\n",
       "      <th>withdrawal</th>\n",
       "      <th>purchases_partners</th>\n",
       "      <th>purchases</th>\n",
       "      <th>cc_taken</th>\n",
       "      <th>cc_recommended</th>\n",
       "      <th>cc_disliked</th>\n",
       "      <th>cc_liked</th>\n",
       "      <th>cc_application_begin</th>\n",
       "      <th>...</th>\n",
       "      <th>zodiac_sign_Cancer</th>\n",
       "      <th>zodiac_sign_Capricorn</th>\n",
       "      <th>zodiac_sign_Gemini</th>\n",
       "      <th>zodiac_sign_Leo</th>\n",
       "      <th>zodiac_sign_Libra</th>\n",
       "      <th>zodiac_sign_Pisces</th>\n",
       "      <th>zodiac_sign_Sagittarius</th>\n",
       "      <th>zodiac_sign_Scorpio</th>\n",
       "      <th>zodiac_sign_Taurus</th>\n",
       "      <th>zodiac_sign_Virgo</th>\n",
       "    </tr>\n",
       "  </thead>\n",
       "  <tbody>\n",
       "    <tr>\n",
       "      <th>11695</th>\n",
       "      <td>-0.620167</td>\n",
       "      <td>-0.357359</td>\n",
       "      <td>-0.284097</td>\n",
       "      <td>-0.580317</td>\n",
       "      <td>-0.357078</td>\n",
       "      <td>-0.166614</td>\n",
       "      <td>-0.907707</td>\n",
       "      <td>-0.070745</td>\n",
       "      <td>-0.074566</td>\n",
       "      <td>-0.558666</td>\n",
       "      <td>...</td>\n",
       "      <td>-0.310041</td>\n",
       "      <td>-0.164663</td>\n",
       "      <td>-0.29841</td>\n",
       "      <td>-0.309716</td>\n",
       "      <td>-0.297743</td>\n",
       "      <td>-0.293268</td>\n",
       "      <td>-0.285665</td>\n",
       "      <td>-0.285894</td>\n",
       "      <td>-0.303494</td>\n",
       "      <td>-0.310907</td>\n",
       "    </tr>\n",
       "    <tr>\n",
       "      <th>19766</th>\n",
       "      <td>-0.420068</td>\n",
       "      <td>-0.357359</td>\n",
       "      <td>-0.284097</td>\n",
       "      <td>-0.628273</td>\n",
       "      <td>-0.357078</td>\n",
       "      <td>-0.166614</td>\n",
       "      <td>0.324392</td>\n",
       "      <td>1.356938</td>\n",
       "      <td>-0.074566</td>\n",
       "      <td>-0.558666</td>\n",
       "      <td>...</td>\n",
       "      <td>-0.310041</td>\n",
       "      <td>-0.164663</td>\n",
       "      <td>-0.29841</td>\n",
       "      <td>-0.309716</td>\n",
       "      <td>3.358604</td>\n",
       "      <td>-0.293268</td>\n",
       "      <td>-0.285665</td>\n",
       "      <td>-0.285894</td>\n",
       "      <td>-0.303494</td>\n",
       "      <td>-0.310907</td>\n",
       "    </tr>\n",
       "    <tr>\n",
       "      <th>8354</th>\n",
       "      <td>0.280278</td>\n",
       "      <td>-0.357359</td>\n",
       "      <td>-0.284097</td>\n",
       "      <td>-0.628273</td>\n",
       "      <td>-0.357078</td>\n",
       "      <td>-0.166614</td>\n",
       "      <td>2.012823</td>\n",
       "      <td>-0.070745</td>\n",
       "      <td>-0.074566</td>\n",
       "      <td>-0.238022</td>\n",
       "      <td>...</td>\n",
       "      <td>-0.310041</td>\n",
       "      <td>-0.164663</td>\n",
       "      <td>-0.29841</td>\n",
       "      <td>-0.309716</td>\n",
       "      <td>-0.297743</td>\n",
       "      <td>-0.293268</td>\n",
       "      <td>-0.285665</td>\n",
       "      <td>-0.285894</td>\n",
       "      <td>-0.303494</td>\n",
       "      <td>3.216392</td>\n",
       "    </tr>\n",
       "    <tr>\n",
       "      <th>17883</th>\n",
       "      <td>0.580427</td>\n",
       "      <td>-0.357359</td>\n",
       "      <td>-0.284097</td>\n",
       "      <td>0.043111</td>\n",
       "      <td>-0.357078</td>\n",
       "      <td>-0.166614</td>\n",
       "      <td>-0.177574</td>\n",
       "      <td>-0.070745</td>\n",
       "      <td>-0.074566</td>\n",
       "      <td>0.002461</td>\n",
       "      <td>...</td>\n",
       "      <td>-0.310041</td>\n",
       "      <td>-0.164663</td>\n",
       "      <td>-0.29841</td>\n",
       "      <td>-0.309716</td>\n",
       "      <td>-0.297743</td>\n",
       "      <td>-0.293268</td>\n",
       "      <td>-0.285665</td>\n",
       "      <td>-0.285894</td>\n",
       "      <td>3.294960</td>\n",
       "      <td>-0.310907</td>\n",
       "    </tr>\n",
       "    <tr>\n",
       "      <th>25149</th>\n",
       "      <td>-0.820266</td>\n",
       "      <td>-0.243321</td>\n",
       "      <td>-0.284097</td>\n",
       "      <td>-0.100757</td>\n",
       "      <td>-0.240763</td>\n",
       "      <td>-0.166614</td>\n",
       "      <td>-0.576865</td>\n",
       "      <td>-0.070745</td>\n",
       "      <td>-0.074566</td>\n",
       "      <td>-0.238022</td>\n",
       "      <td>...</td>\n",
       "      <td>-0.310041</td>\n",
       "      <td>-0.164663</td>\n",
       "      <td>-0.29841</td>\n",
       "      <td>-0.309716</td>\n",
       "      <td>-0.297743</td>\n",
       "      <td>3.409856</td>\n",
       "      <td>-0.285665</td>\n",
       "      <td>-0.285894</td>\n",
       "      <td>-0.303494</td>\n",
       "      <td>-0.310907</td>\n",
       "    </tr>\n",
       "    <tr>\n",
       "      <th>...</th>\n",
       "      <td>...</td>\n",
       "      <td>...</td>\n",
       "      <td>...</td>\n",
       "      <td>...</td>\n",
       "      <td>...</td>\n",
       "      <td>...</td>\n",
       "      <td>...</td>\n",
       "      <td>...</td>\n",
       "      <td>...</td>\n",
       "      <td>...</td>\n",
       "      <td>...</td>\n",
       "      <td>...</td>\n",
       "      <td>...</td>\n",
       "      <td>...</td>\n",
       "      <td>...</td>\n",
       "      <td>...</td>\n",
       "      <td>...</td>\n",
       "      <td>...</td>\n",
       "      <td>...</td>\n",
       "      <td>...</td>\n",
       "      <td>...</td>\n",
       "    </tr>\n",
       "    <tr>\n",
       "      <th>3680</th>\n",
       "      <td>-0.720216</td>\n",
       "      <td>-0.357359</td>\n",
       "      <td>-0.284097</td>\n",
       "      <td>0.306869</td>\n",
       "      <td>-0.357078</td>\n",
       "      <td>-0.166614</td>\n",
       "      <td>-0.166166</td>\n",
       "      <td>-0.070745</td>\n",
       "      <td>-0.074566</td>\n",
       "      <td>-0.318183</td>\n",
       "      <td>...</td>\n",
       "      <td>-0.310041</td>\n",
       "      <td>-0.164663</td>\n",
       "      <td>-0.29841</td>\n",
       "      <td>3.228764</td>\n",
       "      <td>-0.297743</td>\n",
       "      <td>-0.293268</td>\n",
       "      <td>-0.285665</td>\n",
       "      <td>-0.285894</td>\n",
       "      <td>-0.303494</td>\n",
       "      <td>-0.310907</td>\n",
       "    </tr>\n",
       "    <tr>\n",
       "      <th>17188</th>\n",
       "      <td>-0.820266</td>\n",
       "      <td>-0.015243</td>\n",
       "      <td>-0.284097</td>\n",
       "      <td>1.050186</td>\n",
       "      <td>-0.008132</td>\n",
       "      <td>-0.166614</td>\n",
       "      <td>0.415658</td>\n",
       "      <td>-0.070745</td>\n",
       "      <td>-0.074566</td>\n",
       "      <td>-0.077700</td>\n",
       "      <td>...</td>\n",
       "      <td>-0.310041</td>\n",
       "      <td>-0.164663</td>\n",
       "      <td>-0.29841</td>\n",
       "      <td>3.228764</td>\n",
       "      <td>-0.297743</td>\n",
       "      <td>-0.293268</td>\n",
       "      <td>-0.285665</td>\n",
       "      <td>-0.285894</td>\n",
       "      <td>-0.303494</td>\n",
       "      <td>-0.310907</td>\n",
       "    </tr>\n",
       "    <tr>\n",
       "      <th>16158</th>\n",
       "      <td>1.180724</td>\n",
       "      <td>-0.243321</td>\n",
       "      <td>2.605353</td>\n",
       "      <td>-0.580317</td>\n",
       "      <td>-0.240763</td>\n",
       "      <td>-0.166614</td>\n",
       "      <td>-0.953340</td>\n",
       "      <td>-0.070745</td>\n",
       "      <td>-0.074566</td>\n",
       "      <td>-0.558666</td>\n",
       "      <td>...</td>\n",
       "      <td>-0.310041</td>\n",
       "      <td>-0.164663</td>\n",
       "      <td>-0.29841</td>\n",
       "      <td>3.228764</td>\n",
       "      <td>-0.297743</td>\n",
       "      <td>-0.293268</td>\n",
       "      <td>-0.285665</td>\n",
       "      <td>-0.285894</td>\n",
       "      <td>-0.303494</td>\n",
       "      <td>-0.310907</td>\n",
       "    </tr>\n",
       "    <tr>\n",
       "      <th>4385</th>\n",
       "      <td>-0.219969</td>\n",
       "      <td>-0.357359</td>\n",
       "      <td>-0.284097</td>\n",
       "      <td>-0.628273</td>\n",
       "      <td>-0.357078</td>\n",
       "      <td>-0.166614</td>\n",
       "      <td>-1.021790</td>\n",
       "      <td>-0.070745</td>\n",
       "      <td>-0.074566</td>\n",
       "      <td>-0.638827</td>\n",
       "      <td>...</td>\n",
       "      <td>3.225378</td>\n",
       "      <td>-0.164663</td>\n",
       "      <td>-0.29841</td>\n",
       "      <td>-0.309716</td>\n",
       "      <td>-0.297743</td>\n",
       "      <td>-0.293268</td>\n",
       "      <td>-0.285665</td>\n",
       "      <td>-0.285894</td>\n",
       "      <td>-0.303494</td>\n",
       "      <td>-0.310907</td>\n",
       "    </tr>\n",
       "    <tr>\n",
       "      <th>12958</th>\n",
       "      <td>-0.620167</td>\n",
       "      <td>-0.357359</td>\n",
       "      <td>-0.284097</td>\n",
       "      <td>-0.388493</td>\n",
       "      <td>-0.357078</td>\n",
       "      <td>-0.166614</td>\n",
       "      <td>-0.679540</td>\n",
       "      <td>-0.070745</td>\n",
       "      <td>-0.074566</td>\n",
       "      <td>0.082622</td>\n",
       "      <td>...</td>\n",
       "      <td>-0.310041</td>\n",
       "      <td>-0.164663</td>\n",
       "      <td>-0.29841</td>\n",
       "      <td>-0.309716</td>\n",
       "      <td>-0.297743</td>\n",
       "      <td>-0.293268</td>\n",
       "      <td>-0.285665</td>\n",
       "      <td>-0.285894</td>\n",
       "      <td>-0.303494</td>\n",
       "      <td>3.216392</td>\n",
       "    </tr>\n",
       "  </tbody>\n",
       "</table>\n",
       "<p>17880 rows × 42 columns</p>\n",
       "</div>"
      ],
      "text/plain": [
       "            age  deposits  withdrawal  purchases_partners  purchases  \\\n",
       "11695 -0.620167 -0.357359   -0.284097           -0.580317  -0.357078   \n",
       "19766 -0.420068 -0.357359   -0.284097           -0.628273  -0.357078   \n",
       "8354   0.280278 -0.357359   -0.284097           -0.628273  -0.357078   \n",
       "17883  0.580427 -0.357359   -0.284097            0.043111  -0.357078   \n",
       "25149 -0.820266 -0.243321   -0.284097           -0.100757  -0.240763   \n",
       "...         ...       ...         ...                 ...        ...   \n",
       "3680  -0.720216 -0.357359   -0.284097            0.306869  -0.357078   \n",
       "17188 -0.820266 -0.015243   -0.284097            1.050186  -0.008132   \n",
       "16158  1.180724 -0.243321    2.605353           -0.580317  -0.240763   \n",
       "4385  -0.219969 -0.357359   -0.284097           -0.628273  -0.357078   \n",
       "12958 -0.620167 -0.357359   -0.284097           -0.388493  -0.357078   \n",
       "\n",
       "       cc_taken  cc_recommended  cc_disliked  cc_liked  cc_application_begin  \\\n",
       "11695 -0.166614       -0.907707    -0.070745 -0.074566             -0.558666   \n",
       "19766 -0.166614        0.324392     1.356938 -0.074566             -0.558666   \n",
       "8354  -0.166614        2.012823    -0.070745 -0.074566             -0.238022   \n",
       "17883 -0.166614       -0.177574    -0.070745 -0.074566              0.002461   \n",
       "25149 -0.166614       -0.576865    -0.070745 -0.074566             -0.238022   \n",
       "...         ...             ...          ...       ...                   ...   \n",
       "3680  -0.166614       -0.166166    -0.070745 -0.074566             -0.318183   \n",
       "17188 -0.166614        0.415658    -0.070745 -0.074566             -0.077700   \n",
       "16158 -0.166614       -0.953340    -0.070745 -0.074566             -0.558666   \n",
       "4385  -0.166614       -1.021790    -0.070745 -0.074566             -0.638827   \n",
       "12958 -0.166614       -0.679540    -0.070745 -0.074566              0.082622   \n",
       "\n",
       "       ...  zodiac_sign_Cancer  zodiac_sign_Capricorn  zodiac_sign_Gemini  \\\n",
       "11695  ...           -0.310041              -0.164663            -0.29841   \n",
       "19766  ...           -0.310041              -0.164663            -0.29841   \n",
       "8354   ...           -0.310041              -0.164663            -0.29841   \n",
       "17883  ...           -0.310041              -0.164663            -0.29841   \n",
       "25149  ...           -0.310041              -0.164663            -0.29841   \n",
       "...    ...                 ...                    ...                 ...   \n",
       "3680   ...           -0.310041              -0.164663            -0.29841   \n",
       "17188  ...           -0.310041              -0.164663            -0.29841   \n",
       "16158  ...           -0.310041              -0.164663            -0.29841   \n",
       "4385   ...            3.225378              -0.164663            -0.29841   \n",
       "12958  ...           -0.310041              -0.164663            -0.29841   \n",
       "\n",
       "       zodiac_sign_Leo  zodiac_sign_Libra  zodiac_sign_Pisces  \\\n",
       "11695        -0.309716          -0.297743           -0.293268   \n",
       "19766        -0.309716           3.358604           -0.293268   \n",
       "8354         -0.309716          -0.297743           -0.293268   \n",
       "17883        -0.309716          -0.297743           -0.293268   \n",
       "25149        -0.309716          -0.297743            3.409856   \n",
       "...                ...                ...                 ...   \n",
       "3680          3.228764          -0.297743           -0.293268   \n",
       "17188         3.228764          -0.297743           -0.293268   \n",
       "16158         3.228764          -0.297743           -0.293268   \n",
       "4385         -0.309716          -0.297743           -0.293268   \n",
       "12958        -0.309716          -0.297743           -0.293268   \n",
       "\n",
       "       zodiac_sign_Sagittarius  zodiac_sign_Scorpio  zodiac_sign_Taurus  \\\n",
       "11695                -0.285665            -0.285894           -0.303494   \n",
       "19766                -0.285665            -0.285894           -0.303494   \n",
       "8354                 -0.285665            -0.285894           -0.303494   \n",
       "17883                -0.285665            -0.285894            3.294960   \n",
       "25149                -0.285665            -0.285894           -0.303494   \n",
       "...                        ...                  ...                 ...   \n",
       "3680                 -0.285665            -0.285894           -0.303494   \n",
       "17188                -0.285665            -0.285894           -0.303494   \n",
       "16158                -0.285665            -0.285894           -0.303494   \n",
       "4385                 -0.285665            -0.285894           -0.303494   \n",
       "12958                -0.285665            -0.285894           -0.303494   \n",
       "\n",
       "       zodiac_sign_Virgo  \n",
       "11695          -0.310907  \n",
       "19766          -0.310907  \n",
       "8354            3.216392  \n",
       "17883          -0.310907  \n",
       "25149          -0.310907  \n",
       "...                  ...  \n",
       "3680           -0.310907  \n",
       "17188          -0.310907  \n",
       "16158          -0.310907  \n",
       "4385           -0.310907  \n",
       "12958           3.216392  \n",
       "\n",
       "[17880 rows x 42 columns]"
      ]
     },
     "execution_count": 17,
     "metadata": {},
     "output_type": "execute_result"
    }
   ],
   "source": [
    "X_train"
   ]
  },
  {
   "cell_type": "code",
   "execution_count": 20,
   "metadata": {},
   "outputs": [
    {
     "data": {
      "text/plain": [
       "array([1, 0, 0, ..., 1, 0, 1], dtype=int64)"
      ]
     },
     "execution_count": 20,
     "metadata": {},
     "output_type": "execute_result"
    }
   ],
   "source": [
    "from sklearn.linear_model import LogisticRegression\n",
    "classifier=LogisticRegression(random_state=0)\n",
    "classifier.fit(X_train,y_train)\n",
    "y_pred=classifier.predict(X_test)\n",
    "y_pred"
   ]
  },
  {
   "cell_type": "code",
   "execution_count": 21,
   "metadata": {},
   "outputs": [],
   "source": [
    "from sklearn.metrics import confusion_matrix,accuracy_score,f1_score,precision_score,recall_score"
   ]
  },
  {
   "cell_type": "code",
   "execution_count": 23,
   "metadata": {},
   "outputs": [],
   "source": [
    "cm=confusion_matrix(y_test,y_pred)\n",
    "#accuracy_score(y_test,y_pred)"
   ]
  },
  {
   "cell_type": "code",
   "execution_count": 24,
   "metadata": {},
   "outputs": [
    {
     "data": {
      "text/plain": [
       "array([[1628, 1538],\n",
       "       [ 561, 1673]], dtype=int64)"
      ]
     },
     "execution_count": 24,
     "metadata": {},
     "output_type": "execute_result"
    }
   ],
   "source": [
    "cm"
   ]
  },
  {
   "cell_type": "code",
   "execution_count": 25,
   "metadata": {},
   "outputs": [
    {
     "data": {
      "text/plain": [
       "0.6112962962962963"
      ]
     },
     "execution_count": 25,
     "metadata": {},
     "output_type": "execute_result"
    }
   ],
   "source": [
    "accuracy_score(y_test,y_pred)"
   ]
  },
  {
   "cell_type": "code",
   "execution_count": 26,
   "metadata": {},
   "outputs": [
    {
     "data": {
      "text/plain": [
       "0.7488809310653536"
      ]
     },
     "execution_count": 26,
     "metadata": {},
     "output_type": "execute_result"
    }
   ],
   "source": [
    "recall_score(y_test,y_pred)"
   ]
  },
  {
   "cell_type": "code",
   "execution_count": 27,
   "metadata": {},
   "outputs": [
    {
     "data": {
      "text/plain": [
       "0.6145087235996327"
      ]
     },
     "execution_count": 27,
     "metadata": {},
     "output_type": "execute_result"
    }
   ],
   "source": [
    "f1_score(y_test,y_pred)"
   ]
  },
  {
   "cell_type": "code",
   "execution_count": null,
   "metadata": {},
   "outputs": [],
   "source": []
  },
  {
   "cell_type": "code",
   "execution_count": 28,
   "metadata": {},
   "outputs": [
    {
     "data": {
      "text/plain": [
       "<matplotlib.axes._subplots.AxesSubplot at 0x150807639c8>"
      ]
     },
     "execution_count": 28,
     "metadata": {},
     "output_type": "execute_result"
    },
    {
     "data": {
      "image/png": "[encoded data removed]",
      "text/plain": [
       "<Figure size 1080x720 with 2 Axes>"
      ]
     },
     "metadata": {
      "needs_background": "light"
     },
     "output_type": "display_data"
    }
   ],
   "source": [
    "df=pd.DataFrame(cm,index=(0,1),columns=(0,1))\n",
    "plt.figure(figsize=(15,10))\n",
    "sns.set(font_scale=1.3)\n",
    "sns.heatmap(df,annot=True,fmt='g')"
   ]
  },
  {
   "cell_type": "code",
   "execution_count": 31,
   "metadata": {},
   "outputs": [
    {
     "data": {
      "text/plain": [
       "array([0.64149888, 0.65715884, 0.64876957, 0.64205817, 0.63646532,\n",
       "       0.65324385, 0.64988814, 0.6442953 , 0.63982103, 0.65044743])"
      ]
     },
     "execution_count": 31,
     "metadata": {},
     "output_type": "execute_result"
    }
   ],
   "source": [
    "from sklearn.model_selection import cross_val_score\n",
    "acc=cross_val_score(estimator=classifier,X=X_train,y=y_train,cv=10)\n",
    "acc"
   ]
  },
  {
   "cell_type": "code",
   "execution_count": 33,
   "metadata": {},
   "outputs": [
    {
     "data": {
      "text/html": [
       "<div>\n",
       "<style scoped>\n",
       "    .dataframe tbody tr th:only-of-type {\n",
       "        vertical-align: middle;\n",
       "    }\n",
       "\n",
       "    .dataframe tbody tr th {\n",
       "        vertical-align: top;\n",
       "    }\n",
       "\n",
       "    .dataframe thead th {\n",
       "        text-align: right;\n",
       "    }\n",
       "</style>\n",
       "<table border=\"1\" class=\"dataframe\">\n",
       "  <thead>\n",
       "    <tr style=\"text-align: right;\">\n",
       "      <th></th>\n",
       "      <th>features</th>\n",
       "      <th>coef</th>\n",
       "    </tr>\n",
       "  </thead>\n",
       "  <tbody>\n",
       "    <tr>\n",
       "      <th>0</th>\n",
       "      <td>age</td>\n",
       "      <td>-0.172802</td>\n",
       "    </tr>\n",
       "    <tr>\n",
       "      <th>1</th>\n",
       "      <td>deposits</td>\n",
       "      <td>0.255635</td>\n",
       "    </tr>\n",
       "    <tr>\n",
       "      <th>2</th>\n",
       "      <td>withdrawal</td>\n",
       "      <td>0.052113</td>\n",
       "    </tr>\n",
       "    <tr>\n",
       "      <th>3</th>\n",
       "      <td>purchases_partners</td>\n",
       "      <td>-0.747505</td>\n",
       "    </tr>\n",
       "    <tr>\n",
       "      <th>4</th>\n",
       "      <td>purchases</td>\n",
       "      <td>-0.389270</td>\n",
       "    </tr>\n",
       "    <tr>\n",
       "      <th>5</th>\n",
       "      <td>cc_taken</td>\n",
       "      <td>0.067297</td>\n",
       "    </tr>\n",
       "    <tr>\n",
       "      <th>6</th>\n",
       "      <td>cc_recommended</td>\n",
       "      <td>0.106706</td>\n",
       "    </tr>\n",
       "    <tr>\n",
       "      <th>7</th>\n",
       "      <td>cc_disliked</td>\n",
       "      <td>-0.003561</td>\n",
       "    </tr>\n",
       "    <tr>\n",
       "      <th>8</th>\n",
       "      <td>cc_liked</td>\n",
       "      <td>0.007206</td>\n",
       "    </tr>\n",
       "    <tr>\n",
       "      <th>9</th>\n",
       "      <td>cc_application_begin</td>\n",
       "      <td>0.029128</td>\n",
       "    </tr>\n",
       "    <tr>\n",
       "      <th>10</th>\n",
       "      <td>app_downloaded</td>\n",
       "      <td>-0.023206</td>\n",
       "    </tr>\n",
       "    <tr>\n",
       "      <th>11</th>\n",
       "      <td>web_user</td>\n",
       "      <td>0.126767</td>\n",
       "    </tr>\n",
       "    <tr>\n",
       "      <th>12</th>\n",
       "      <td>app_web_user</td>\n",
       "      <td>0.013291</td>\n",
       "    </tr>\n",
       "    <tr>\n",
       "      <th>13</th>\n",
       "      <td>ios_user</td>\n",
       "      <td>0.101029</td>\n",
       "    </tr>\n",
       "    <tr>\n",
       "      <th>14</th>\n",
       "      <td>android_user</td>\n",
       "      <td>0.024491</td>\n",
       "    </tr>\n",
       "    <tr>\n",
       "      <th>15</th>\n",
       "      <td>registered_phones</td>\n",
       "      <td>0.098664</td>\n",
       "    </tr>\n",
       "    <tr>\n",
       "      <th>16</th>\n",
       "      <td>waiting_4_loan</td>\n",
       "      <td>-0.020819</td>\n",
       "    </tr>\n",
       "    <tr>\n",
       "      <th>17</th>\n",
       "      <td>cancelled_loan</td>\n",
       "      <td>0.098524</td>\n",
       "    </tr>\n",
       "    <tr>\n",
       "      <th>18</th>\n",
       "      <td>received_loan</td>\n",
       "      <td>0.146534</td>\n",
       "    </tr>\n",
       "    <tr>\n",
       "      <th>19</th>\n",
       "      <td>rejected_loan</td>\n",
       "      <td>0.114721</td>\n",
       "    </tr>\n",
       "    <tr>\n",
       "      <th>20</th>\n",
       "      <td>left_for_two_month_plus</td>\n",
       "      <td>0.059472</td>\n",
       "    </tr>\n",
       "    <tr>\n",
       "      <th>21</th>\n",
       "      <td>left_for_one_month</td>\n",
       "      <td>0.020605</td>\n",
       "    </tr>\n",
       "    <tr>\n",
       "      <th>22</th>\n",
       "      <td>reward_rate</td>\n",
       "      <td>-0.239660</td>\n",
       "    </tr>\n",
       "    <tr>\n",
       "      <th>23</th>\n",
       "      <td>is_referred</td>\n",
       "      <td>0.000707</td>\n",
       "    </tr>\n",
       "    <tr>\n",
       "      <th>24</th>\n",
       "      <td>housing_O</td>\n",
       "      <td>-0.043264</td>\n",
       "    </tr>\n",
       "    <tr>\n",
       "      <th>25</th>\n",
       "      <td>housing_R</td>\n",
       "      <td>0.038149</td>\n",
       "    </tr>\n",
       "    <tr>\n",
       "      <th>26</th>\n",
       "      <td>payment_type_Bi-Weekly</td>\n",
       "      <td>-0.059023</td>\n",
       "    </tr>\n",
       "    <tr>\n",
       "      <th>27</th>\n",
       "      <td>payment_type_Monthly</td>\n",
       "      <td>-0.010675</td>\n",
       "    </tr>\n",
       "    <tr>\n",
       "      <th>28</th>\n",
       "      <td>payment_type_Semi-Monthly</td>\n",
       "      <td>-0.048968</td>\n",
       "    </tr>\n",
       "    <tr>\n",
       "      <th>29</th>\n",
       "      <td>payment_type_Weekly</td>\n",
       "      <td>0.039136</td>\n",
       "    </tr>\n",
       "    <tr>\n",
       "      <th>30</th>\n",
       "      <td>zodiac_sign_Aquarius</td>\n",
       "      <td>-0.031189</td>\n",
       "    </tr>\n",
       "    <tr>\n",
       "      <th>31</th>\n",
       "      <td>zodiac_sign_Aries</td>\n",
       "      <td>-0.018223</td>\n",
       "    </tr>\n",
       "    <tr>\n",
       "      <th>32</th>\n",
       "      <td>zodiac_sign_Cancer</td>\n",
       "      <td>0.013127</td>\n",
       "    </tr>\n",
       "    <tr>\n",
       "      <th>33</th>\n",
       "      <td>zodiac_sign_Capricorn</td>\n",
       "      <td>0.013427</td>\n",
       "    </tr>\n",
       "    <tr>\n",
       "      <th>34</th>\n",
       "      <td>zodiac_sign_Gemini</td>\n",
       "      <td>-0.039296</td>\n",
       "    </tr>\n",
       "    <tr>\n",
       "      <th>35</th>\n",
       "      <td>zodiac_sign_Leo</td>\n",
       "      <td>-0.013004</td>\n",
       "    </tr>\n",
       "    <tr>\n",
       "      <th>36</th>\n",
       "      <td>zodiac_sign_Libra</td>\n",
       "      <td>-0.032601</td>\n",
       "    </tr>\n",
       "    <tr>\n",
       "      <th>37</th>\n",
       "      <td>zodiac_sign_Pisces</td>\n",
       "      <td>0.013924</td>\n",
       "    </tr>\n",
       "    <tr>\n",
       "      <th>38</th>\n",
       "      <td>zodiac_sign_Sagittarius</td>\n",
       "      <td>0.000959</td>\n",
       "    </tr>\n",
       "    <tr>\n",
       "      <th>39</th>\n",
       "      <td>zodiac_sign_Scorpio</td>\n",
       "      <td>0.000745</td>\n",
       "    </tr>\n",
       "    <tr>\n",
       "      <th>40</th>\n",
       "      <td>zodiac_sign_Taurus</td>\n",
       "      <td>-0.040940</td>\n",
       "    </tr>\n",
       "    <tr>\n",
       "      <th>41</th>\n",
       "      <td>zodiac_sign_Virgo</td>\n",
       "      <td>0.019300</td>\n",
       "    </tr>\n",
       "  </tbody>\n",
       "</table>\n",
       "</div>"
      ],
      "text/plain": [
       "                     features      coef\n",
       "0                         age -0.172802\n",
       "1                    deposits  0.255635\n",
       "2                  withdrawal  0.052113\n",
       "3          purchases_partners -0.747505\n",
       "4                   purchases -0.389270\n",
       "5                    cc_taken  0.067297\n",
       "6              cc_recommended  0.106706\n",
       "7                 cc_disliked -0.003561\n",
       "8                    cc_liked  0.007206\n",
       "9        cc_application_begin  0.029128\n",
       "10             app_downloaded -0.023206\n",
       "11                   web_user  0.126767\n",
       "12               app_web_user  0.013291\n",
       "13                   ios_user  0.101029\n",
       "14               android_user  0.024491\n",
       "15          registered_phones  0.098664\n",
       "16             waiting_4_loan -0.020819\n",
       "17             cancelled_loan  0.098524\n",
       "18              received_loan  0.146534\n",
       "19              rejected_loan  0.114721\n",
       "20    left_for_two_month_plus  0.059472\n",
       "21         left_for_one_month  0.020605\n",
       "22                reward_rate -0.239660\n",
       "23                is_referred  0.000707\n",
       "24                  housing_O -0.043264\n",
       "25                  housing_R  0.038149\n",
       "26     payment_type_Bi-Weekly -0.059023\n",
       "27       payment_type_Monthly -0.010675\n",
       "28  payment_type_Semi-Monthly -0.048968\n",
       "29        payment_type_Weekly  0.039136\n",
       "30       zodiac_sign_Aquarius -0.031189\n",
       "31          zodiac_sign_Aries -0.018223\n",
       "32         zodiac_sign_Cancer  0.013127\n",
       "33      zodiac_sign_Capricorn  0.013427\n",
       "34         zodiac_sign_Gemini -0.039296\n",
       "35            zodiac_sign_Leo -0.013004\n",
       "36          zodiac_sign_Libra -0.032601\n",
       "37         zodiac_sign_Pisces  0.013924\n",
       "38    zodiac_sign_Sagittarius  0.000959\n",
       "39        zodiac_sign_Scorpio  0.000745\n",
       "40         zodiac_sign_Taurus -0.040940\n",
       "41          zodiac_sign_Virgo  0.019300"
      ]
     },
     "execution_count": 33,
     "metadata": {},
     "output_type": "execute_result"
    }
   ],
   "source": [
    "pd.concat([pd.DataFrame(X_train.columns,columns=[\"features\"]),pd.DataFrame(np.transpose(classifier.coef_),columns=[\"coef\"])]\n",
    "   ,axis=1)"
   ]
  },
  {
   "cell_type": "code",
   "execution_count": 34,
   "metadata": {},
   "outputs": [],
   "source": [
    "from sklearn.feature_selection import RFE\n",
    "from sklearn.linear_model import LogisticRegression\n"
   ]
  },
  {
   "cell_type": "code",
   "execution_count": 35,
   "metadata": {},
   "outputs": [
    {
     "data": {
      "text/plain": [
       "(17880, 42)"
      ]
     },
     "execution_count": 35,
     "metadata": {},
     "output_type": "execute_result"
    }
   ],
   "source": [
    "classifier=LogisticRegression()\n",
    "X_train.shape"
   ]
  },
  {
   "cell_type": "code",
   "execution_count": 36,
   "metadata": {},
   "outputs": [],
   "source": [
    "rf=RFE(classifier,25)"
   ]
  },
  {
   "cell_type": "code",
   "execution_count": 37,
   "metadata": {},
   "outputs": [],
   "source": [
    "rf=rf.fit(X_train,y_train)"
   ]
  },
  {
   "cell_type": "code",
   "execution_count": 38,
   "metadata": {},
   "outputs": [
    {
     "data": {
      "text/plain": [
       "array([ True,  True,  True,  True,  True,  True,  True, False, False,\n",
       "        True, False,  True, False,  True, False,  True, False,  True,\n",
       "        True,  True,  True, False,  True, False,  True,  True,  True,\n",
       "       False,  True,  True,  True, False, False, False,  True, False,\n",
       "        True, False, False, False,  True, False])"
      ]
     },
     "execution_count": 38,
     "metadata": {},
     "output_type": "execute_result"
    }
   ],
   "source": [
    "rf.support_"
   ]
  },
  {
   "cell_type": "code",
   "execution_count": 39,
   "metadata": {},
   "outputs": [
    {
     "data": {
      "text/plain": [
       "Index(['age', 'deposits', 'withdrawal', 'purchases_partners', 'purchases',\n",
       "       'cc_taken', 'cc_recommended', 'cc_application_begin', 'web_user',\n",
       "       'ios_user', 'registered_phones', 'cancelled_loan', 'received_loan',\n",
       "       'rejected_loan', 'left_for_two_month_plus', 'reward_rate', 'housing_O',\n",
       "       'housing_R', 'payment_type_Bi-Weekly', 'payment_type_Semi-Monthly',\n",
       "       'payment_type_Weekly', 'zodiac_sign_Aquarius', 'zodiac_sign_Gemini',\n",
       "       'zodiac_sign_Libra', 'zodiac_sign_Taurus'],\n",
       "      dtype='object')"
      ]
     },
     "execution_count": 39,
     "metadata": {},
     "output_type": "execute_result"
    }
   ],
   "source": [
    "X_train.columns[rf.support_]"
   ]
  },
  {
   "cell_type": "code",
   "execution_count": 41,
   "metadata": {},
   "outputs": [
    {
     "data": {
      "text/plain": [
       "array([ 1,  1,  1,  1,  1,  1,  1, 15, 14,  1,  7,  1,  8,  1,  6,  1,  4,\n",
       "        1,  1,  1,  1,  5,  1, 18,  1,  1,  1, 13,  1,  1,  1,  2, 12, 10,\n",
       "        1,  3,  1, 11, 16, 17,  1,  9])"
      ]
     },
     "execution_count": 41,
     "metadata": {},
     "output_type": "execute_result"
    }
   ],
   "source": [
    "rf.ranking_"
   ]
  },
  {
   "cell_type": "code",
   "execution_count": 45,
   "metadata": {},
   "outputs": [
    {
     "data": {
      "text/plain": [
       "array([1, 0, 0, ..., 1, 0, 1], dtype=int64)"
      ]
     },
     "execution_count": 45,
     "metadata": {},
     "output_type": "execute_result"
    }
   ],
   "source": [
    "from sklearn.linear_model import LogisticRegression\n",
    "classifier=LogisticRegression(random_state=0)\n",
    "classifier.fit(X_train[X_train.columns[rf.support_]],y_train)\n",
    "y_pred=classifier.predict(X_test[X_test.columns[rf.support_]])\n",
    "y_pred"
   ]
  },
  {
   "cell_type": "code",
   "execution_count": null,
   "metadata": {},
   "outputs": [],
   "source": [
    "from sklearn.metrics import confusion_matrix,accuracy_score,f1_score,precision_score,recall_score"
   ]
  },
  {
   "cell_type": "code",
   "execution_count": 46,
   "metadata": {},
   "outputs": [
    {
     "data": {
      "text/plain": [
       "array([[1615, 1551],\n",
       "       [ 552, 1682]], dtype=int64)"
      ]
     },
     "execution_count": 46,
     "metadata": {},
     "output_type": "execute_result"
    }
   ],
   "source": [
    "cm=confusion_matrix(y_test,y_pred)\n",
    "cm"
   ]
  },
  {
   "cell_type": "code",
   "execution_count": 47,
   "metadata": {},
   "outputs": [
    {
     "data": {
      "text/plain": [
       "0.6105555555555555"
      ]
     },
     "execution_count": 47,
     "metadata": {},
     "output_type": "execute_result"
    }
   ],
   "source": [
    "accuracy_score(y_test,y_pred)"
   ]
  },
  {
   "cell_type": "code",
   "execution_count": 54,
   "metadata": {},
   "outputs": [
    {
     "data": {
      "text/html": [
       "<div>\n",
       "<style scoped>\n",
       "    .dataframe tbody tr th:only-of-type {\n",
       "        vertical-align: middle;\n",
       "    }\n",
       "\n",
       "    .dataframe tbody tr th {\n",
       "        vertical-align: top;\n",
       "    }\n",
       "\n",
       "    .dataframe thead th {\n",
       "        text-align: right;\n",
       "    }\n",
       "</style>\n",
       "<table border=\"1\" class=\"dataframe\">\n",
       "  <thead>\n",
       "    <tr style=\"text-align: right;\">\n",
       "      <th></th>\n",
       "      <th>user</th>\n",
       "      <th>churn</th>\n",
       "      <th>predicted_value</th>\n",
       "    </tr>\n",
       "  </thead>\n",
       "  <tbody>\n",
       "    <tr>\n",
       "      <th>0</th>\n",
       "      <td>61353</td>\n",
       "      <td>1.0</td>\n",
       "      <td>1</td>\n",
       "    </tr>\n",
       "    <tr>\n",
       "      <th>1</th>\n",
       "      <td>67679</td>\n",
       "      <td>0.0</td>\n",
       "      <td>0</td>\n",
       "    </tr>\n",
       "    <tr>\n",
       "      <th>2</th>\n",
       "      <td>21269</td>\n",
       "      <td>0.0</td>\n",
       "      <td>0</td>\n",
       "    </tr>\n",
       "    <tr>\n",
       "      <th>3</th>\n",
       "      <td>69531</td>\n",
       "      <td>0.0</td>\n",
       "      <td>1</td>\n",
       "    </tr>\n",
       "    <tr>\n",
       "      <th>4</th>\n",
       "      <td>25997</td>\n",
       "      <td>0.0</td>\n",
       "      <td>0</td>\n",
       "    </tr>\n",
       "    <tr>\n",
       "      <th>...</th>\n",
       "      <td>...</td>\n",
       "      <td>...</td>\n",
       "      <td>...</td>\n",
       "    </tr>\n",
       "    <tr>\n",
       "      <th>5395</th>\n",
       "      <td>22377</td>\n",
       "      <td>0.0</td>\n",
       "      <td>1</td>\n",
       "    </tr>\n",
       "    <tr>\n",
       "      <th>5396</th>\n",
       "      <td>24291</td>\n",
       "      <td>1.0</td>\n",
       "      <td>1</td>\n",
       "    </tr>\n",
       "    <tr>\n",
       "      <th>5397</th>\n",
       "      <td>23740</td>\n",
       "      <td>0.0</td>\n",
       "      <td>1</td>\n",
       "    </tr>\n",
       "    <tr>\n",
       "      <th>5398</th>\n",
       "      <td>47663</td>\n",
       "      <td>1.0</td>\n",
       "      <td>0</td>\n",
       "    </tr>\n",
       "    <tr>\n",
       "      <th>5399</th>\n",
       "      <td>52752</td>\n",
       "      <td>1.0</td>\n",
       "      <td>1</td>\n",
       "    </tr>\n",
       "  </tbody>\n",
       "</table>\n",
       "<p>5400 rows × 3 columns</p>\n",
       "</div>"
      ],
      "text/plain": [
       "       user  churn  predicted_value\n",
       "0     61353    1.0                1\n",
       "1     67679    0.0                0\n",
       "2     21269    0.0                0\n",
       "3     69531    0.0                1\n",
       "4     25997    0.0                0\n",
       "...     ...    ...              ...\n",
       "5395  22377    0.0                1\n",
       "5396  24291    1.0                1\n",
       "5397  23740    0.0                1\n",
       "5398  47663    1.0                0\n",
       "5399  52752    1.0                1\n",
       "\n",
       "[5400 rows x 3 columns]"
      ]
     },
     "execution_count": 54,
     "metadata": {},
     "output_type": "execute_result"
    }
   ],
   "source": [
    "user_identifier='churn'\n",
    "final=pd.concat([y_test,ser],axis=1).dropna()\n",
    "final['predicted_value']=y_pred\n",
    "final=final[['user','churn','predicted_value']].reset_index(drop='True')\n",
    "final"
   ]
  },
  {
   "cell_type": "code",
   "execution_count": 57,
   "metadata": {},
   "outputs": [
    {
     "name": "stderr",
     "output_type": "stream",
     "text": [
      "C:\\Users\\rahul pahuja\\anaconda3\\lib\\site-packages\\sklearn\\svm\\_base.py:947: ConvergenceWarning: Liblinear failed to converge, increase the number of iterations.\n",
      "  \"the number of iterations.\", ConvergenceWarning)\n"
     ]
    },
    {
     "data": {
      "text/plain": [
       "LinearSVC(C=1.0, class_weight=None, dual=True, fit_intercept=True,\n",
       "          intercept_scaling=1, loss='squared_hinge', max_iter=1000,\n",
       "          multi_class='ovr', penalty='l2', random_state=None, tol=0.0001,\n",
       "          verbose=0)"
      ]
     },
     "execution_count": 57,
     "metadata": {},
     "output_type": "execute_result"
    }
   ],
   "source": [
    "from sklearn.svm import LinearSVC\n",
    "svm = LinearSVC()\n",
    "svm.fit(X_train,y_train)"
   ]
  },
  {
   "cell_type": "code",
   "execution_count": 59,
   "metadata": {},
   "outputs": [
    {
     "data": {
      "text/plain": [
       "array([1, 0, 0, ..., 1, 0, 1], dtype=int64)"
      ]
     },
     "execution_count": 59,
     "metadata": {},
     "output_type": "execute_result"
    }
   ],
   "source": [
    "y_pred = svm.predict(X_test)\n",
    "y_pred"
   ]
  },
  {
   "cell_type": "code",
   "execution_count": 60,
   "metadata": {},
   "outputs": [
    {
     "data": {
      "text/plain": [
       "0.6061111111111112"
      ]
     },
     "execution_count": 60,
     "metadata": {},
     "output_type": "execute_result"
    }
   ],
   "source": [
    "accuracy_score(y_test,y_pred)"
   ]
  },
  {
   "cell_type": "code",
   "execution_count": null,
   "metadata": {},
   "outputs": [],
   "source": []
  },
  {
   "cell_type": "code",
   "execution_count": null,
   "metadata": {},
   "outputs": [],
   "source": []
  },
  {
   "cell_type": "code",
   "execution_count": null,
   "metadata": {},
   "outputs": [],
   "source": []
  },
  {
   "cell_type": "code",
   "execution_count": null,
   "metadata": {},
   "outputs": [],
   "source": []
  },
  {
   "cell_type": "code",
   "execution_count": null,
   "metadata": {},
   "outputs": [],
   "source": []
  },
  {
   "cell_type": "code",
   "execution_count": null,
   "metadata": {},
   "outputs": [],
   "source": []
  },
  {
   "cell_type": "code",
   "execution_count": null,
   "metadata": {},
   "outputs": [],
   "source": []
  },
  {
   "cell_type": "code",
   "execution_count": null,
   "metadata": {},
   "outputs": [],
   "source": []
  },
  {
   "cell_type": "code",
   "execution_count": null,
   "metadata": {},
   "outputs": [],
   "source": []
  },
  {
   "cell_type": "code",
   "execution_count": null,
   "metadata": {},
   "outputs": [],
   "source": []
  },
  {
   "cell_type": "code",
   "execution_count": null,
   "metadata": {},
   "outputs": [],
   "source": []
  },
  {
   "cell_type": "code",
   "execution_count": null,
   "metadata": {},
   "outputs": [],
   "source": []
  },
  {
   "cell_type": "code",
   "execution_count": null,
   "metadata": {},
   "outputs": [],
   "source": []
  },
  {
   "cell_type": "code",
   "execution_count": null,
   "metadata": {},
   "outputs": [],
   "source": []
  },
  {
   "cell_type": "code",
   "execution_count": null,
   "metadata": {},
   "outputs": [],
   "source": []
  },
  {
   "cell_type": "code",
   "execution_count": null,
   "metadata": {},
   "outputs": [],
   "source": []
  },
  {
   "cell_type": "code",
   "execution_count": null,
   "metadata": {},
   "outputs": [],
   "source": []
  },
  {
   "cell_type": "code",
   "execution_count": null,
   "metadata": {},
   "outputs": [],
   "source": []
  },
  {
   "cell_type": "code",
   "execution_count": null,
   "metadata": {},
   "outputs": [],
   "source": []
  },
  {
   "cell_type": "code",
   "execution_count": null,
   "metadata": {},
   "outputs": [],
   "source": []
  },
  {
   "cell_type": "code",
   "execution_count": null,
   "metadata": {},
   "outputs": [],
   "source": []
  }
 ],
 "metadata": {
  "kernelspec": {
   "display_name": "Python 3",
   "language": "python",
   "name": "python3"
  },
  "language_info": {
   "codemirror_mode": {
    "name": "ipython",
    "version": 3
   },
   "file_extension": ".py",
   "mimetype": "text/x-python",
   "name": "python",
   "nbconvert_exporter": "python",
   "pygments_lexer": "ipython3",
   "version": "3.7.6"
  }
 },
 "nbformat": 4,
 "nbformat_minor": 4
}
